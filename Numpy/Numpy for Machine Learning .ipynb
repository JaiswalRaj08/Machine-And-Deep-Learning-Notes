{
 "cells": [
  {
   "cell_type": "markdown",
   "id": "9ca91ad6",
   "metadata": {},
   "source": [
    "# Title : Numpy for Machine Learning \n",
    "### Author : Raj Shivprakash Poonam Jaiswal\n",
    "### LinkedIn : https://www.linkedin.com/in/raj-jaiswal-481a33216/\n",
    "### Twitter: https://twitter.com/home\n",
    "### Github :https://github.com/Jaiswalraj2908"
   ]
  },
  {
   "cell_type": "markdown",
   "id": "3b88e82c",
   "metadata": {},
   "source": [
    "### 💻: Build Exercise Solutions\n",
    "### 🌈: Note \n",
    "### 📚: Resources \n",
    "### 📌: Session\n",
    "### 🚀: Exercise"
   ]
  },
  {
   "cell_type": "markdown",
   "id": "cca4bac9",
   "metadata": {},
   "source": [
    "# Why Numpy ?\n",
    "\n",
    "\n",
    " Numpy is one of the most commonly used packages for scientific computing in Python. It provides a multidimensional array object, as well as variations such as masks and matrices, which can be used for various math operations."
   ]
  },
  {
   "cell_type": "markdown",
   "id": "e774d5a4",
   "metadata": {},
   "source": [
    "#### 📚Resources : Numpy vs Lists :- https://stackoverflow.com/questions/993984/what-are-the-advantages-of-numpy-over-regular-python-lists"
   ]
  },
  {
   "cell_type": "markdown",
   "id": "89f4ba30",
   "metadata": {},
   "source": [
    "### 🌍Import Numpy "
   ]
  },
  {
   "cell_type": "code",
   "execution_count": 1,
   "id": "2f02a8b9",
   "metadata": {},
   "outputs": [],
   "source": [
    "import numpy as np"
   ]
  },
  {
   "cell_type": "markdown",
   "id": "f9c80f75",
   "metadata": {},
   "source": [
    "### 🌋 When you will complete this Numpy notebook you will understand this  2 cells of code"
   ]
  },
  {
   "cell_type": "code",
   "execution_count": 2,
   "id": "38c2bec2",
   "metadata": {},
   "outputs": [
    {
     "data": {
      "text/plain": [
       "100000"
      ]
     },
     "execution_count": 2,
     "metadata": {},
     "output_type": "execute_result"
    }
   ],
   "source": [
    "np.random.seed(42)\n",
    "\n",
    "massive_aaray = np.random.random(100000)\n",
    "massive_aaray.size"
   ]
  },
  {
   "cell_type": "code",
   "execution_count": 3,
   "id": "acec0a85",
   "metadata": {},
   "outputs": [
    {
     "name": "stdout",
     "output_type": "stream",
     "text": [
      "Python sum function used in lists ( time in mili seconds)\n",
      "12.3 ms ± 198 µs per loop (mean ± std. dev. of 7 runs, 100 loops each)\n",
      "--------------------------------------------------------------------\n",
      "Numpy sum function used in array ( time in micro seconds)\n",
      "37.1 µs ± 185 ns per loop (mean ± std. dev. of 7 runs, 10000 loops each)\n"
     ]
    }
   ],
   "source": [
    "print(\"Python sum function used in lists ( time in mili seconds)\")\n",
    "%timeit sum(massive_aaray)\n",
    "\n",
    "print(\"--------------------------------------------------------------------\")\n",
    "\n",
    "print(\"Numpy sum function used in array ( time in micro seconds)\")\n",
    "%timeit np.sum(massive_aaray)"
   ]
  },
  {
   "cell_type": "markdown",
   "id": "6ef32430",
   "metadata": {},
   "source": [
    "## 📌Session 1 : Numpy Datatypes and Attributes"
   ]
  },
  {
   "cell_type": "markdown",
   "id": "581689c4",
   "metadata": {},
   "source": [
    "#### Create a Numpy array where the universal  type is always ndarray which is very flexible to manipulate or perform mathematical operations.\n"
   ]
  },
  {
   "cell_type": "code",
   "execution_count": 4,
   "id": "732db0ae",
   "metadata": {},
   "outputs": [],
   "source": [
    "array1 = np.array([10,7,19])"
   ]
  },
  {
   "cell_type": "code",
   "execution_count": 5,
   "id": "31e2bcc5",
   "metadata": {},
   "outputs": [
    {
     "name": "stdout",
     "output_type": "stream",
     "text": [
      "[10  7 19]\n"
     ]
    }
   ],
   "source": [
    "print(array1)"
   ]
  },
  {
   "cell_type": "markdown",
   "id": "20b8e6a5",
   "metadata": {},
   "source": [
    "From above output result we can observe a list of 3 elements(size) which is having 1 row and 3 coloumns (shape) and its an int (datatype) also its seems its is 1-D (ndim) with ndarray (type).\n",
    "\n",
    "Lets Verify our observation using some Numpy attributes."
   ]
  },
  {
   "cell_type": "code",
   "execution_count": 6,
   "id": "15f6e739",
   "metadata": {},
   "outputs": [
    {
     "name": "stdout",
     "output_type": "stream",
     "text": [
      "Size : 3\n",
      "Shape : (3,)\n",
      "Data type : int32\n",
      "Dimension of array: 1\n",
      "Type of array : <class 'numpy.ndarray'>\n"
     ]
    }
   ],
   "source": [
    "print(\"Size :\",array1.size)\n",
    "print(\"Shape :\" , array1.shape) # since shape is rows x colms , you can see bit  change in 1-D shape\n",
    "print(\"Data type :\",array1.dtype)\n",
    "print(\"Dimension of array:\" , array1.ndim)\n",
    "print(\"Type of array :\" ,type(array1))"
   ]
  },
  {
   "cell_type": "code",
   "execution_count": 7,
   "id": "61debc21",
   "metadata": {},
   "outputs": [],
   "source": [
    "array2 = np.array([[10,7,19],\n",
    "                  [1,2,3.05,]])"
   ]
  },
  {
   "cell_type": "code",
   "execution_count": 8,
   "id": "83c91ee2",
   "metadata": {},
   "outputs": [
    {
     "name": "stdout",
     "output_type": "stream",
     "text": [
      "[[10.    7.   19.  ]\n",
      " [ 1.    2.    3.05]]\n"
     ]
    }
   ],
   "source": [
    "print(array2)"
   ]
  },
  {
   "cell_type": "markdown",
   "id": "129dc23e",
   "metadata": {},
   "source": [
    "From above output result we can observe a list ( Matrix ) of 6 elements(size) which is having 2 row and 3 coloumns (shape) and its an float (datatype) also its seems its is 2-D (ndim) with ndarray (type).\n",
    "\n",
    "Lets Verify our observation using some Numpy attributes."
   ]
  },
  {
   "cell_type": "code",
   "execution_count": 9,
   "id": "9552fbae",
   "metadata": {},
   "outputs": [
    {
     "name": "stdout",
     "output_type": "stream",
     "text": [
      "Size : 6\n",
      "Shape : (2, 3)\n",
      "Data type : float64\n",
      "Dimension of array: 2\n",
      "Type of array : <class 'numpy.ndarray'>\n"
     ]
    }
   ],
   "source": [
    "print(\"Size :\",array2.size)\n",
    "print(\"Shape :\" , array2.shape) \n",
    "print(\"Data type :\",array2.dtype)\n",
    "print(\"Dimension of array:\" , array2.ndim)\n",
    "print(\"Type of array :\" ,type(array2))"
   ]
  },
  {
   "cell_type": "code",
   "execution_count": 10,
   "id": "198f34bd",
   "metadata": {},
   "outputs": [],
   "source": [
    "array3 = np.array([[[10,7,19],\n",
    "                   [1,2,3],\n",
    "                   [20,55,90]],\n",
    "                   [[99,88,77],\n",
    "                   [37,54,29],\n",
    "                   [23,59,62]]])"
   ]
  },
  {
   "cell_type": "code",
   "execution_count": 11,
   "id": "78af71a9",
   "metadata": {},
   "outputs": [
    {
     "name": "stdout",
     "output_type": "stream",
     "text": [
      "[[[10  7 19]\n",
      "  [ 1  2  3]\n",
      "  [20 55 90]]\n",
      "\n",
      " [[99 88 77]\n",
      "  [37 54 29]\n",
      "  [23 59 62]]]\n"
     ]
    }
   ],
   "source": [
    "print(array3)"
   ]
  },
  {
   "cell_type": "markdown",
   "id": "aa6d18b7",
   "metadata": {},
   "source": [
    "From above output result we can observe a list ( Matrix ) of 18 elements(size) which is having 3 row and 3 coloumns (shape) in each matrix of matrix  and its an int (datatype) also its seems its is 3-D (ndim) with ndarray (type).\n",
    "\n",
    "Lets Verify our observation using some Numpy attributes."
   ]
  },
  {
   "cell_type": "code",
   "execution_count": 12,
   "id": "03094b75",
   "metadata": {},
   "outputs": [
    {
     "name": "stdout",
     "output_type": "stream",
     "text": [
      "Size : 18\n",
      "Shape : (2, 3, 3)\n",
      "Data type : int32\n",
      "Dimension of array: 3\n",
      "Type of array : <class 'numpy.ndarray'>\n"
     ]
    }
   ],
   "source": [
    "print(\"Size :\",array3.size)\n",
    "print(\"Shape :\" , array3.shape) \n",
    "print(\"Data type :\",array3.dtype)\n",
    "print(\"Dimension of array:\" , array3.ndim)\n",
    "print(\"Type of array :\" ,type(array3))"
   ]
  },
  {
   "cell_type": "markdown",
   "id": "4494eb8e",
   "metadata": {},
   "source": [
    "### 🚀 I encourage you to make 4 Dimension of array "
   ]
  },
  {
   "cell_type": "markdown",
   "id": "e2c82872",
   "metadata": {},
   "source": [
    "## 📌Session 2 : Creating Numpy arrays"
   ]
  },
  {
   "cell_type": "markdown",
   "id": "5b8bbe6a",
   "metadata": {},
   "source": [
    "In an Early stage we have created numpy by own BUT BUT we have some numpy functions to create arrays by defining shape ,size , dimesnions etc .\n",
    "\n",
    "LETS check it out !!!!\n",
    "\n",
    "**😎PRO TIP : Press Shift + Tab to know the functions Parameters**"
   ]
  },
  {
   "cell_type": "code",
   "execution_count": 13,
   "id": "d12650fc",
   "metadata": {},
   "outputs": [],
   "source": [
    "ones = np.ones(shape = (1,3))"
   ]
  },
  {
   "cell_type": "code",
   "execution_count": 14,
   "id": "83f4270f",
   "metadata": {},
   "outputs": [
    {
     "name": "stdout",
     "output_type": "stream",
     "text": [
      "[[1. 1. 1.]]\n"
     ]
    }
   ],
   "source": [
    "print(ones)"
   ]
  },
  {
   "cell_type": "code",
   "execution_count": 15,
   "id": "2becc8a8",
   "metadata": {},
   "outputs": [
    {
     "name": "stdout",
     "output_type": "stream",
     "text": [
      "Size : 3\n",
      "Shape : (1, 3)\n",
      "Data type : float64\n",
      "Dimension of array: 2\n",
      "Type of array : <class 'numpy.ndarray'>\n"
     ]
    }
   ],
   "source": [
    "print(\"Size :\",ones.size)\n",
    "print(\"Shape :\" ,ones.shape) \n",
    "print(\"Data type :\",ones.dtype)\n",
    "print(\"Dimension of array:\" , ones.ndim)\n",
    "print(\"Type of array :\" ,type(ones))"
   ]
  },
  {
   "cell_type": "code",
   "execution_count": 16,
   "id": "9c6d4afd",
   "metadata": {},
   "outputs": [],
   "source": [
    "zeros = np.zeros(shape = (3,3))"
   ]
  },
  {
   "cell_type": "code",
   "execution_count": 17,
   "id": "64bddf47",
   "metadata": {},
   "outputs": [
    {
     "name": "stdout",
     "output_type": "stream",
     "text": [
      "[[0. 0. 0.]\n",
      " [0. 0. 0.]\n",
      " [0. 0. 0.]]\n"
     ]
    }
   ],
   "source": [
    "print(zeros)"
   ]
  },
  {
   "cell_type": "code",
   "execution_count": 18,
   "id": "92ab522d",
   "metadata": {},
   "outputs": [
    {
     "name": "stdout",
     "output_type": "stream",
     "text": [
      "Size : 9\n",
      "Shape : (3, 3)\n",
      "Data type : float64\n",
      "Dimension of array: 2\n",
      "Type of array : <class 'numpy.ndarray'>\n"
     ]
    }
   ],
   "source": [
    "print(\"Size :\",zeros.size)\n",
    "print(\"Shape :\" ,zeros.shape) \n",
    "print(\"Data type :\",zeros.dtype)\n",
    "print(\"Dimension of array:\" , zeros.ndim)\n",
    "print(\"Type of array :\" ,type(zeros))"
   ]
  },
  {
   "cell_type": "code",
   "execution_count": 19,
   "id": "95863876",
   "metadata": {},
   "outputs": [],
   "source": [
    "arange = np.arange(start = 0 ,stop = 10 ,step = 2)"
   ]
  },
  {
   "cell_type": "code",
   "execution_count": 20,
   "id": "ae69a238",
   "metadata": {},
   "outputs": [
    {
     "name": "stdout",
     "output_type": "stream",
     "text": [
      "[0 2 4 6 8]\n"
     ]
    }
   ],
   "source": [
    "print(arange)"
   ]
  },
  {
   "cell_type": "code",
   "execution_count": 21,
   "id": "eeff687f",
   "metadata": {},
   "outputs": [
    {
     "name": "stdout",
     "output_type": "stream",
     "text": [
      "Size : 5\n",
      "Shape : (5,)\n",
      "Data type : int32\n",
      "Dimension of array: 1\n",
      "Type of array : <class 'numpy.ndarray'>\n"
     ]
    }
   ],
   "source": [
    "print(\"Size :\",arange.size)\n",
    "print(\"Shape :\" ,arange.shape) \n",
    "print(\"Data type :\",arange.dtype)\n",
    "print(\"Dimension of array:\" , arange.ndim)\n",
    "print(\"Type of array :\" ,type(arange))"
   ]
  },
  {
   "cell_type": "code",
   "execution_count": 22,
   "id": "80e8537f",
   "metadata": {},
   "outputs": [],
   "source": [
    "random_int = np.random.randint(low = 0 ,high = 10 ,size =(5,5))"
   ]
  },
  {
   "cell_type": "code",
   "execution_count": 23,
   "id": "8b7e87ab",
   "metadata": {},
   "outputs": [
    {
     "name": "stdout",
     "output_type": "stream",
     "text": [
      "[[1 7 8 0 5]\n",
      " [5 6 5 0 5]\n",
      " [3 0 9 5 2]\n",
      " [3 7 7 2 3]\n",
      " [2 7 2 9 2]]\n"
     ]
    }
   ],
   "source": [
    "print(random_int)"
   ]
  },
  {
   "cell_type": "code",
   "execution_count": 24,
   "id": "98665774",
   "metadata": {},
   "outputs": [
    {
     "name": "stdout",
     "output_type": "stream",
     "text": [
      "Size : 5\n",
      "Shape : (5,)\n",
      "Data type : int32\n",
      "Dimension of array: 1\n",
      "Type of array : <class 'numpy.ndarray'>\n"
     ]
    }
   ],
   "source": [
    "print(\"Size :\",arange.size)\n",
    "print(\"Shape :\" ,arange.shape) \n",
    "print(\"Data type :\",arange.dtype)\n",
    "print(\"Dimension of array:\" , arange.ndim)\n",
    "print(\"Type of array :\" ,type(arange))"
   ]
  },
  {
   "cell_type": "code",
   "execution_count": 25,
   "id": "2b42f0ee",
   "metadata": {},
   "outputs": [],
   "source": [
    "random_rand = np.random.rand(2,5,5)"
   ]
  },
  {
   "cell_type": "code",
   "execution_count": 26,
   "id": "383d283a",
   "metadata": {},
   "outputs": [
    {
     "name": "stdout",
     "output_type": "stream",
     "text": [
      "[[[0.53519364 0.16873659 0.77563843 0.26595915 0.61502457]\n",
      "  [0.89940004 0.03858561 0.38753394 0.13491776 0.90865771]\n",
      "  [0.36007744 0.21334093 0.67647658 0.54319279 0.81693668]\n",
      "  [0.75306816 0.97466985 0.09053231 0.08027277 0.9073607 ]\n",
      "  [0.95573222 0.40663435 0.45586983 0.36869829 0.77768688]]\n",
      "\n",
      " [[0.77078662 0.22041966 0.38389413 0.21243668 0.04662415]\n",
      "  [0.05612146 0.14682312 0.02988204 0.42317521 0.06401951]\n",
      "  [0.84741139 0.71208198 0.78364284 0.61748012 0.66387733]\n",
      "  [0.11341003 0.05816765 0.98921411 0.37294936 0.05127002]\n",
      "  [0.15964599 0.874206   0.20579868 0.46704207 0.66747419]]]\n"
     ]
    }
   ],
   "source": [
    "print(random_rand)"
   ]
  },
  {
   "cell_type": "code",
   "execution_count": 27,
   "id": "53a27a53",
   "metadata": {},
   "outputs": [
    {
     "name": "stdout",
     "output_type": "stream",
     "text": [
      "Size : 50\n",
      "Shape : (2, 5, 5)\n",
      "Data type : float64\n",
      "Dimension of array: 3\n",
      "Type of array : <class 'numpy.ndarray'>\n"
     ]
    }
   ],
   "source": [
    "print(\"Size :\",random_rand.size)\n",
    "print(\"Shape :\" ,random_rand.shape) \n",
    "print(\"Data type :\",random_rand.dtype)\n",
    "print(\"Dimension of array:\" , random_rand.ndim)\n",
    "print(\"Type of array :\" ,type(random_rand))"
   ]
  },
  {
   "cell_type": "markdown",
   "id": "f9d596ce",
   "metadata": {},
   "source": [
    "### 🚀 I encourage you to tweak the parameters of functions and observe those  array "
   ]
  },
  {
   "cell_type": "markdown",
   "id": "c7c140df",
   "metadata": {},
   "source": [
    "## 📌Session 3 : Numpy Random Seed"
   ]
  },
  {
   "cell_type": "markdown",
   "id": "7caca657",
   "metadata": {},
   "source": [
    "#### 📚 Resources : Random Seed :- https://www.sharpsightlabs.com/blog/numpy-random-seed/"
   ]
  },
  {
   "cell_type": "markdown",
   "id": "b5f3d596",
   "metadata": {},
   "source": [
    "# What is Pseudo Random Numbers ? \n",
    "\n",
    "\n",
    "A set of values or elements that is statistically random, but it is derived from a known starting point and is typically repeated over and over. ... It is called \"pseudo\" random, because the algorithm can repeat the sequence, and the numbers are thus not entirely random.\n",
    "\n"
   ]
  },
  {
   "cell_type": "code",
   "execution_count": 28,
   "id": "f4bf7d0c",
   "metadata": {},
   "outputs": [],
   "source": [
    "Random_int_01 = np.random.randint(low = 0 , high = 100 ,size = (10,10))"
   ]
  },
  {
   "cell_type": "code",
   "execution_count": 29,
   "id": "0252b4f3",
   "metadata": {},
   "outputs": [
    {
     "name": "stdout",
     "output_type": "stream",
     "text": [
      "[[45 88 99  6 14 92 71 36 73 73]\n",
      " [59 49 12 18 48 22 54 14 80  9]\n",
      " [55 62 56 45 32 55 17 67 58  3]\n",
      " [14 30  1 75 61 32 45 49 19 65]\n",
      " [64 83 23 13 48 40 28 20 31 58]\n",
      " [52 86 92 77 62 70 22 80 33 95]\n",
      " [36  4 41 83 71 71 87 24 45 26]\n",
      " [95  6 59 11  6 44  7  3 27 45]\n",
      " [60 79 39 33 26 25 10  0 20 31]\n",
      " [74 86 59 67  1 83 91 53  8 68]]\n"
     ]
    }
   ],
   "source": [
    "print(Random_int_01)"
   ]
  },
  {
   "cell_type": "code",
   "execution_count": 30,
   "id": "2ea828a2",
   "metadata": {},
   "outputs": [],
   "source": [
    "np.random.seed(42)\n",
    "\n",
    "\n",
    "Random_int_02 = np.random.randint(low = 0 , high = 100 ,size = (10,10))"
   ]
  },
  {
   "cell_type": "code",
   "execution_count": 31,
   "id": "69966499",
   "metadata": {},
   "outputs": [
    {
     "name": "stdout",
     "output_type": "stream",
     "text": [
      "[[51 92 14 71 60 20 82 86 74 74]\n",
      " [87 99 23  2 21 52  1 87 29 37]\n",
      " [ 1 63 59 20 32 75 57 21 88 48]\n",
      " [90 58 41 91 59 79 14 61 61 46]\n",
      " [61 50 54 63  2 50  6 20 72 38]\n",
      " [17  3 88 59 13  8 89 52  1 83]\n",
      " [91 59 70 43  7 46 34 77 80 35]\n",
      " [49  3  1  5 53  3 53 92 62 17]\n",
      " [89 43 33 73 61 99 13 94 47 14]\n",
      " [71 77 86 61 39 84 79 81 52 23]]\n"
     ]
    }
   ],
   "source": [
    "print(Random_int_02)"
   ]
  },
  {
   "cell_type": "markdown",
   "id": "80703c9b",
   "metadata": {},
   "source": [
    "#### 🚀 I encourage you to find the difference between both the random integers array that what is exactly happening with the set of numbers"
   ]
  },
  {
   "cell_type": "markdown",
   "id": "0b180c1d",
   "metadata": {},
   "source": [
    "## 📌Session 4 : Viewing Array and Matrices"
   ]
  },
  {
   "cell_type": "markdown",
   "id": "f11a0daa",
   "metadata": {},
   "source": [
    "#### 📚 Resources : Basic Slicing and indexing : - https://www.geeksforgeeks.org/indexing-in-numpy/"
   ]
  },
  {
   "cell_type": "markdown",
   "id": "bf9e092f",
   "metadata": {},
   "source": [
    "#### 😎 **In Python index always starts with 0 and ends with n-1 . I encourage you to click above link or go throughthe python notebook in my Machine Learning Notebook**\n",
    "\n",
    "#### Index [ rows_start : rows_end , cols_start : cols_end ]"
   ]
  },
  {
   "cell_type": "code",
   "execution_count": 32,
   "id": "0d70bbe8",
   "metadata": {},
   "outputs": [
    {
     "name": "stdout",
     "output_type": "stream",
     "text": [
      "[10  7 19]\n"
     ]
    }
   ],
   "source": [
    "print(array1)"
   ]
  },
  {
   "cell_type": "code",
   "execution_count": 33,
   "id": "0e1ffcf7",
   "metadata": {},
   "outputs": [
    {
     "name": "stdout",
     "output_type": "stream",
     "text": [
      "(3,)\n"
     ]
    }
   ],
   "source": [
    "print(array1.shape)"
   ]
  },
  {
   "cell_type": "code",
   "execution_count": 34,
   "id": "59335a0d",
   "metadata": {},
   "outputs": [
    {
     "name": "stdout",
     "output_type": "stream",
     "text": [
      "10\n",
      "7\n",
      "19\n"
     ]
    },
    {
     "data": {
      "text/plain": [
       "(None, None, None)"
      ]
     },
     "execution_count": 34,
     "metadata": {},
     "output_type": "execute_result"
    }
   ],
   "source": [
    "print(array1[0]) ,print(array1[1]) ,print(array1[2]) "
   ]
  },
  {
   "cell_type": "code",
   "execution_count": 35,
   "id": "fd353e6d",
   "metadata": {},
   "outputs": [
    {
     "name": "stdout",
     "output_type": "stream",
     "text": [
      "19\n",
      "7\n",
      "10\n"
     ]
    },
    {
     "data": {
      "text/plain": [
       "(None, None, None)"
      ]
     },
     "execution_count": 35,
     "metadata": {},
     "output_type": "execute_result"
    }
   ],
   "source": [
    "print(array1[-1]) , print(array1[-2]) ,print(array1[-3])"
   ]
  },
  {
   "cell_type": "code",
   "execution_count": 36,
   "id": "5fae5000",
   "metadata": {},
   "outputs": [
    {
     "name": "stdout",
     "output_type": "stream",
     "text": [
      "[[10.    7.   19.  ]\n",
      " [ 1.    2.    3.05]]\n"
     ]
    }
   ],
   "source": [
    "print(array2)"
   ]
  },
  {
   "cell_type": "code",
   "execution_count": 37,
   "id": "144f72b1",
   "metadata": {},
   "outputs": [
    {
     "name": "stdout",
     "output_type": "stream",
     "text": [
      "(2, 3)\n"
     ]
    }
   ],
   "source": [
    "print(array2.shape)"
   ]
  },
  {
   "cell_type": "code",
   "execution_count": 38,
   "id": "c5b7322b",
   "metadata": {},
   "outputs": [
    {
     "name": "stdout",
     "output_type": "stream",
     "text": [
      "[[10.  7.]]\n"
     ]
    }
   ],
   "source": [
    "print(array2[0:1 ,0:2])"
   ]
  },
  {
   "cell_type": "markdown",
   "id": "2b4c8d5c",
   "metadata": {},
   "source": [
    "Above you can observe we  extract two columns of first row because 0:1 force to extract 0th row and 0:2 force to extract 0th and 1th  cols excluding 2nd"
   ]
  },
  {
   "cell_type": "code",
   "execution_count": 39,
   "id": "9390c7d6",
   "metadata": {},
   "outputs": [
    {
     "name": "stdout",
     "output_type": "stream",
     "text": [
      "[[[10  7 19]\n",
      "  [ 1  2  3]\n",
      "  [20 55 90]]\n",
      "\n",
      " [[99 88 77]\n",
      "  [37 54 29]\n",
      "  [23 59 62]]]\n"
     ]
    }
   ],
   "source": [
    "print(array3)"
   ]
  },
  {
   "cell_type": "code",
   "execution_count": 40,
   "id": "634459e9",
   "metadata": {},
   "outputs": [
    {
     "name": "stdout",
     "output_type": "stream",
     "text": [
      "(2, 3, 3)\n"
     ]
    }
   ],
   "source": [
    "print(array3.shape)"
   ]
  },
  {
   "cell_type": "code",
   "execution_count": 41,
   "id": "509424b0",
   "metadata": {},
   "outputs": [
    {
     "name": "stdout",
     "output_type": "stream",
     "text": [
      "[[[10  7]\n",
      "  [ 1  2]]\n",
      "\n",
      " [[99 88]\n",
      "  [37 54]]]\n"
     ]
    }
   ],
   "source": [
    "print(array3[:,:2,:2])"
   ]
  },
  {
   "cell_type": "markdown",
   "id": "9e281411",
   "metadata": {},
   "source": [
    "#### Write your own observation in your words in your notebook after implementing the array3 cell."
   ]
  },
  {
   "cell_type": "markdown",
   "id": "07e01fd2",
   "metadata": {},
   "source": [
    "### 🚀 Exercise :  I encourage you to create an array of random integers with shape = ( 2,3,4,5) with low = 0 and high = 100  with seed (42)\n",
    "\n",
    "1. Find Unique Values\n",
    "2. Extract 2 cols from each array/ matrix\n",
    "3. Extract 2 rows from each array / matrix\n",
    "4. Find Dimension ,shape ,size ,datatype of matrix "
   ]
  },
  {
   "cell_type": "markdown",
   "id": "bee4b0fe",
   "metadata": {},
   "source": [
    "### 💻 Build and excerise with Solutions ( Give A try to yourself )"
   ]
  },
  {
   "cell_type": "code",
   "execution_count": 42,
   "id": "559cd823",
   "metadata": {},
   "outputs": [],
   "source": [
    "np.random.seed(42)\n",
    "\n",
    "excercise = np.random.randint(low = 0 , high = 100 ,size=(2,3,4,5))"
   ]
  },
  {
   "cell_type": "code",
   "execution_count": 43,
   "id": "2e3b5646",
   "metadata": {},
   "outputs": [
    {
     "name": "stdout",
     "output_type": "stream",
     "text": [
      "[[[[51 92 14 71 60]\n",
      "   [20 82 86 74 74]\n",
      "   [87 99 23  2 21]\n",
      "   [52  1 87 29 37]]\n",
      "\n",
      "  [[ 1 63 59 20 32]\n",
      "   [75 57 21 88 48]\n",
      "   [90 58 41 91 59]\n",
      "   [79 14 61 61 46]]\n",
      "\n",
      "  [[61 50 54 63  2]\n",
      "   [50  6 20 72 38]\n",
      "   [17  3 88 59 13]\n",
      "   [ 8 89 52  1 83]]]\n",
      "\n",
      "\n",
      " [[[91 59 70 43  7]\n",
      "   [46 34 77 80 35]\n",
      "   [49  3  1  5 53]\n",
      "   [ 3 53 92 62 17]]\n",
      "\n",
      "  [[89 43 33 73 61]\n",
      "   [99 13 94 47 14]\n",
      "   [71 77 86 61 39]\n",
      "   [84 79 81 52 23]]\n",
      "\n",
      "  [[25 88 59 40 28]\n",
      "   [14 44 64 88 70]\n",
      "   [ 8 87  0  7 87]\n",
      "   [62 10 80  7 34]]]]\n"
     ]
    }
   ],
   "source": [
    "print(excercise)"
   ]
  },
  {
   "cell_type": "code",
   "execution_count": 44,
   "id": "6065c47c",
   "metadata": {},
   "outputs": [
    {
     "name": "stdout",
     "output_type": "stream",
     "text": [
      "[ 0  1  2  3  5  6  7  8 10 13 14 17 20 21 23 25 28 29 32 33 34 35 37 38\n",
      " 39 40 41 43 44 46 47 48 49 50 51 52 53 54 57 58 59 60 61 62 63 64 70 71\n",
      " 72 73 74 75 77 79 80 81 82 83 84 86 87 88 89 90 91 92 94 99]\n"
     ]
    }
   ],
   "source": [
    "# 1.Find Unique Values\n",
    "\n",
    "print(np.unique(excercise))"
   ]
  },
  {
   "cell_type": "code",
   "execution_count": 45,
   "id": "3765ab33",
   "metadata": {},
   "outputs": [
    {
     "name": "stdout",
     "output_type": "stream",
     "text": [
      "[[[[51 92]\n",
      "   [20 82]\n",
      "   [87 99]\n",
      "   [52  1]]\n",
      "\n",
      "  [[ 1 63]\n",
      "   [75 57]\n",
      "   [90 58]\n",
      "   [79 14]]\n",
      "\n",
      "  [[61 50]\n",
      "   [50  6]\n",
      "   [17  3]\n",
      "   [ 8 89]]]\n",
      "\n",
      "\n",
      " [[[91 59]\n",
      "   [46 34]\n",
      "   [49  3]\n",
      "   [ 3 53]]\n",
      "\n",
      "  [[89 43]\n",
      "   [99 13]\n",
      "   [71 77]\n",
      "   [84 79]]\n",
      "\n",
      "  [[25 88]\n",
      "   [14 44]\n",
      "   [ 8 87]\n",
      "   [62 10]]]]\n"
     ]
    }
   ],
   "source": [
    "# 2. Extract 2 cols from each array/ matrix\n",
    "\n",
    "print(excercise[:,:,:,:2])"
   ]
  },
  {
   "cell_type": "code",
   "execution_count": 46,
   "id": "0f353fbd",
   "metadata": {},
   "outputs": [
    {
     "name": "stdout",
     "output_type": "stream",
     "text": [
      "[[[[51 92 14 71 60]\n",
      "   [20 82 86 74 74]]\n",
      "\n",
      "  [[ 1 63 59 20 32]\n",
      "   [75 57 21 88 48]]\n",
      "\n",
      "  [[61 50 54 63  2]\n",
      "   [50  6 20 72 38]]]\n",
      "\n",
      "\n",
      " [[[91 59 70 43  7]\n",
      "   [46 34 77 80 35]]\n",
      "\n",
      "  [[89 43 33 73 61]\n",
      "   [99 13 94 47 14]]\n",
      "\n",
      "  [[25 88 59 40 28]\n",
      "   [14 44 64 88 70]]]]\n"
     ]
    }
   ],
   "source": [
    "# 3. Extract 2 rows from each array / matrix\n",
    "\n",
    "print(excercise[:,:,:2,:])"
   ]
  },
  {
   "cell_type": "code",
   "execution_count": 47,
   "id": "02fc4021",
   "metadata": {},
   "outputs": [
    {
     "name": "stdout",
     "output_type": "stream",
     "text": [
      "Dimension: 4\n",
      "Shape : (2, 3, 4, 5)\n",
      "Size : 120\n",
      "Datatype : int32\n",
      "Type of array : <class 'numpy.ndarray'>\n"
     ]
    }
   ],
   "source": [
    "# 4. Find Dimension ,shape ,size ,datatype of matrix\n",
    "\n",
    "print(\"Dimension:\",excercise.ndim)\n",
    "print(\"Shape :\",excercise.shape)\n",
    "print(\"Size :\" , excercise.size)\n",
    "print(\"Datatype :\" ,excercise.dtype)\n",
    "print(\"Type of array :\" ,type(excercise))"
   ]
  },
  {
   "cell_type": "markdown",
   "id": "1c71f416",
   "metadata": {},
   "source": [
    "###  👽I hope you have done this exercise by your own so congratulate for your progress and if not dont worry here is the solution above , Go and Practise ."
   ]
  },
  {
   "cell_type": "markdown",
   "id": "3451bce6",
   "metadata": {},
   "source": [
    "## 📌Session 5 : Manipulating Arrays"
   ]
  },
  {
   "cell_type": "markdown",
   "id": "a9fca200",
   "metadata": {},
   "source": [
    "#### 📚 Resources : Manipulating Arrays :- https://numpy.org/doc/stable/reference/routines.array-manipulation.html \n"
   ]
  },
  {
   "cell_type": "markdown",
   "id": "7b78e8e9",
   "metadata": {},
   "source": [
    "## Arthimatic"
   ]
  },
  {
   "cell_type": "code",
   "execution_count": 48,
   "id": "1537c472",
   "metadata": {},
   "outputs": [
    {
     "name": "stdout",
     "output_type": "stream",
     "text": [
      "[10  7 19]\n",
      "Shape : (3,)\n"
     ]
    },
    {
     "data": {
      "text/plain": [
       "(None, None)"
      ]
     },
     "execution_count": 48,
     "metadata": {},
     "output_type": "execute_result"
    }
   ],
   "source": [
    "print(array1) ,print(\"Shape :\" ,array1.shape)"
   ]
  },
  {
   "cell_type": "code",
   "execution_count": 49,
   "id": "da9510bb",
   "metadata": {},
   "outputs": [
    {
     "name": "stdout",
     "output_type": "stream",
     "text": [
      "[[1. 1. 1.]]\n",
      "Shape: (1, 3)\n"
     ]
    },
    {
     "data": {
      "text/plain": [
       "(None, None)"
      ]
     },
     "execution_count": 49,
     "metadata": {},
     "output_type": "execute_result"
    }
   ],
   "source": [
    "Ones = np.ones(shape = (1,3))\n",
    "print(Ones) ,print(\"Shape:\",Ones.shape)"
   ]
  },
  {
   "cell_type": "code",
   "execution_count": 50,
   "id": "f2a935c9",
   "metadata": {},
   "outputs": [
    {
     "name": "stdout",
     "output_type": "stream",
     "text": [
      "Addition : [[11.  8. 20.]]\n",
      "Substraction : [[ 9.  6. 18.]]\n",
      "Multiplication : [[10.  7. 19.]]\n",
      "Divide: [[10.  7. 19.]]\n"
     ]
    }
   ],
   "source": [
    "print(\"Addition :\" ,array1 + Ones)\n",
    "print(\"Substraction :\" ,array1 - Ones)\n",
    "print(\"Multiplication :\" ,array1 * Ones)\n",
    "print(\"Divide:\" ,array1/Ones)"
   ]
  },
  {
   "cell_type": "code",
   "execution_count": 51,
   "id": "de4006a5",
   "metadata": {},
   "outputs": [
    {
     "name": "stdout",
     "output_type": "stream",
     "text": [
      "[[10.    7.   19.  ]\n",
      " [ 1.    2.    3.05]]\n",
      "Shape : (2, 3)\n"
     ]
    },
    {
     "data": {
      "text/plain": [
       "(None, None)"
      ]
     },
     "execution_count": 51,
     "metadata": {},
     "output_type": "execute_result"
    }
   ],
   "source": [
    "print(array2),print(\"Shape :\" ,array2.shape)"
   ]
  },
  {
   "cell_type": "code",
   "execution_count": 52,
   "id": "4eb3e531",
   "metadata": {},
   "outputs": [
    {
     "name": "stdout",
     "output_type": "stream",
     "text": [
      "Addition :\n",
      " [[11.    8.   20.  ]\n",
      " [ 2.    3.    4.05]]\n",
      "Substraction: \n",
      " [[ 9.    6.   18.  ]\n",
      " [ 0.    1.    2.05]]\n",
      "Multiplication: \n",
      " [[10.    7.   19.  ]\n",
      " [ 1.    2.    3.05]]\n",
      "Divide:\n",
      " [[10.    7.   19.  ]\n",
      " [ 1.    2.    3.05]]\n"
     ]
    }
   ],
   "source": [
    "print(\"Addition :\\n\" ,array2 + Ones)\n",
    "print(\"Substraction: \\n\" ,array2 - Ones)\n",
    "print(\"Multiplication: \\n\" ,array2 * Ones)\n",
    "print(\"Divide:\\n\" ,array2/Ones)"
   ]
  },
  {
   "cell_type": "code",
   "execution_count": 53,
   "id": "5b1de38b",
   "metadata": {},
   "outputs": [
    {
     "name": "stdout",
     "output_type": "stream",
     "text": [
      "[[[10  7 19]\n",
      "  [ 1  2  3]\n",
      "  [20 55 90]]\n",
      "\n",
      " [[99 88 77]\n",
      "  [37 54 29]\n",
      "  [23 59 62]]]\n",
      "(2, 3, 3)\n"
     ]
    },
    {
     "data": {
      "text/plain": [
       "(None, None)"
      ]
     },
     "execution_count": 53,
     "metadata": {},
     "output_type": "execute_result"
    }
   ],
   "source": [
    "print(array3) ,print(array3.shape)"
   ]
  },
  {
   "cell_type": "code",
   "execution_count": 54,
   "id": "ac5954e9",
   "metadata": {},
   "outputs": [
    {
     "ename": "ValueError",
     "evalue": "operands could not be broadcast together with shapes (2,3) (2,3,3) ",
     "output_type": "error",
     "traceback": [
      "\u001b[1;31m---------------------------------------------------------------------------\u001b[0m",
      "\u001b[1;31mValueError\u001b[0m                                Traceback (most recent call last)",
      "\u001b[1;32m<ipython-input-54-32e9bd1cf9f8>\u001b[0m in \u001b[0;36m<module>\u001b[1;34m\u001b[0m\n\u001b[1;32m----> 1\u001b[1;33m \u001b[0mprint\u001b[0m\u001b[1;33m(\u001b[0m\u001b[1;34m\"Addition :\\n\"\u001b[0m \u001b[1;33m,\u001b[0m\u001b[0marray2\u001b[0m \u001b[1;33m+\u001b[0m \u001b[0marray3\u001b[0m\u001b[1;33m)\u001b[0m\u001b[1;33m\u001b[0m\u001b[1;33m\u001b[0m\u001b[0m\n\u001b[0m\u001b[0;32m      2\u001b[0m \u001b[0mprint\u001b[0m\u001b[1;33m(\u001b[0m\u001b[1;34m\"Substraction: \\n\"\u001b[0m \u001b[1;33m,\u001b[0m\u001b[0marray2\u001b[0m \u001b[1;33m-\u001b[0m \u001b[0marray3\u001b[0m\u001b[1;33m)\u001b[0m\u001b[1;33m\u001b[0m\u001b[1;33m\u001b[0m\u001b[0m\n\u001b[0;32m      3\u001b[0m \u001b[0mprint\u001b[0m\u001b[1;33m(\u001b[0m\u001b[1;34m\"Multiplication: \\n\"\u001b[0m \u001b[1;33m,\u001b[0m\u001b[0marray2\u001b[0m \u001b[1;33m*\u001b[0m \u001b[0marray3\u001b[0m\u001b[1;33m)\u001b[0m\u001b[1;33m\u001b[0m\u001b[1;33m\u001b[0m\u001b[0m\n\u001b[0;32m      4\u001b[0m \u001b[0mprint\u001b[0m\u001b[1;33m(\u001b[0m\u001b[1;34m\"Divide:\"\u001b[0m \u001b[1;33m,\u001b[0m\u001b[0marray2\u001b[0m\u001b[1;33m/\u001b[0m\u001b[0marray3\u001b[0m\u001b[1;33m)\u001b[0m\u001b[1;33m\u001b[0m\u001b[1;33m\u001b[0m\u001b[0m\n",
      "\u001b[1;31mValueError\u001b[0m: operands could not be broadcast together with shapes (2,3) (2,3,3) "
     ]
    }
   ],
   "source": [
    "print(\"Addition :\\n\" ,array2 + array3)\n",
    "print(\"Substraction: \\n\" ,array2 - array3)\n",
    "print(\"Multiplication: \\n\" ,array2 * array3)\n",
    "print(\"Divide:\" ,array2/array3)"
   ]
  },
  {
   "cell_type": "markdown",
   "id": "c3e75c69",
   "metadata": {},
   "source": [
    "#### Hmmmm?? Why we get an error ? We are just following the steps ..Is there any rules do we need to follow? Well Yes ! Read about Broadcasting arrays linked Below: In short the shape and dimesnions  of both arrays  is inappropriate to perfrom operations. "
   ]
  },
  {
   "cell_type": "markdown",
   "id": "c1800ba5",
   "metadata": {},
   "source": [
    "#### 📚Resources : Broadcasting Arrays :- https://numpy.org/doc/stable/user/basics.broadcasting.html"
   ]
  },
  {
   "cell_type": "markdown",
   "id": "268ecb93",
   "metadata": {},
   "source": [
    "General Broadcasting Rules\n",
    "When operating on two arrays, NumPy compares their shapes element-wise. It starts with the trailing (i.e. rightmost) dimensions and works its way left. Two dimensions are compatible when\n",
    "\n",
    "1. they are equal, or\n",
    "\n",
    "2. one of them is 1"
   ]
  },
  {
   "cell_type": "markdown",
   "id": "8d83359f",
   "metadata": {},
   "source": [
    "## 😤Lets Reshape Arrays to eliminate Errors and Lets us Run our cell"
   ]
  },
  {
   "cell_type": "code",
   "execution_count": 55,
   "id": "92d7e0b2",
   "metadata": {},
   "outputs": [
    {
     "name": "stdout",
     "output_type": "stream",
     "text": [
      "[[10.    7.   19.  ]\n",
      " [ 1.    2.    3.05]]\n",
      "Shape : (2, 3)\n",
      "Dimension : 2\n"
     ]
    },
    {
     "data": {
      "text/plain": [
       "(None, None, None)"
      ]
     },
     "execution_count": 55,
     "metadata": {},
     "output_type": "execute_result"
    }
   ],
   "source": [
    "print(array2) ,print(\"Shape :\",array2.shape) ,print(\"Dimension :\" ,array2.ndim)"
   ]
  },
  {
   "cell_type": "code",
   "execution_count": 56,
   "id": "aeee83fb",
   "metadata": {},
   "outputs": [],
   "source": [
    "array2_reshaped = array2.reshape(2,3,1)"
   ]
  },
  {
   "cell_type": "code",
   "execution_count": 57,
   "id": "ecadb042",
   "metadata": {},
   "outputs": [
    {
     "name": "stdout",
     "output_type": "stream",
     "text": [
      "[[[10.  ]\n",
      "  [ 7.  ]\n",
      "  [19.  ]]\n",
      "\n",
      " [[ 1.  ]\n",
      "  [ 2.  ]\n",
      "  [ 3.05]]]\n",
      "Shape : (2, 3, 1)\n",
      "Dimension : 3\n"
     ]
    },
    {
     "data": {
      "text/plain": [
       "(None, None, None)"
      ]
     },
     "execution_count": 57,
     "metadata": {},
     "output_type": "execute_result"
    }
   ],
   "source": [
    "print(array2_reshaped) ,print(\"Shape :\",array2_reshaped.shape) ,print(\"Dimension :\" ,array2_reshaped.ndim)"
   ]
  },
  {
   "cell_type": "code",
   "execution_count": 58,
   "id": "7cae7994",
   "metadata": {},
   "outputs": [
    {
     "name": "stdout",
     "output_type": "stream",
     "text": [
      "[[[10  7 19]\n",
      "  [ 1  2  3]\n",
      "  [20 55 90]]\n",
      "\n",
      " [[99 88 77]\n",
      "  [37 54 29]\n",
      "  [23 59 62]]]\n",
      "Shape : (2, 3, 3)\n",
      "Dimension : 3\n"
     ]
    },
    {
     "data": {
      "text/plain": [
       "(None, None, None)"
      ]
     },
     "execution_count": 58,
     "metadata": {},
     "output_type": "execute_result"
    }
   ],
   "source": [
    "print(array3) ,print(\"Shape :\",array3.shape) ,print(\"Dimension :\" ,array3.ndim)"
   ]
  },
  {
   "cell_type": "code",
   "execution_count": 59,
   "id": "0720577b",
   "metadata": {},
   "outputs": [
    {
     "data": {
      "text/plain": [
       "array([[[ 100.  ,   70.  ,  190.  ],\n",
       "        [   7.  ,   14.  ,   21.  ],\n",
       "        [ 380.  , 1045.  , 1710.  ]],\n",
       "\n",
       "       [[  99.  ,   88.  ,   77.  ],\n",
       "        [  74.  ,  108.  ,   58.  ],\n",
       "        [  70.15,  179.95,  189.1 ]]])"
      ]
     },
     "execution_count": 59,
     "metadata": {},
     "output_type": "execute_result"
    }
   ],
   "source": [
    "array2_reshaped * array3"
   ]
  },
  {
   "cell_type": "markdown",
   "id": "f642ba35",
   "metadata": {},
   "source": [
    "## 🔥 Yipppppeeee... We have Done this... Thank you so much to help me.."
   ]
  },
  {
   "cell_type": "markdown",
   "id": "65b95040",
   "metadata": {},
   "source": [
    "### 🚀Try this : http://matrixmultiplication.xyz/"
   ]
  },
  {
   "cell_type": "markdown",
   "id": "6ca73bdc",
   "metadata": {},
   "source": [
    "### 🚀Exercise : Try more Arithmatic operations with this arrays using Numpy function for math"
   ]
  },
  {
   "cell_type": "markdown",
   "id": "3fd32e00",
   "metadata": {},
   "source": [
    "## Aggregation :"
   ]
  },
  {
   "cell_type": "markdown",
   "id": "c0cb56e1",
   "metadata": {},
   "source": [
    "#### 📚Resources : Aggregration :- https://www.tutorialgateway.org/python-numpy-aggregate-functions/"
   ]
  },
  {
   "cell_type": "code",
   "execution_count": 60,
   "id": "8886b4ca",
   "metadata": {},
   "outputs": [
    {
     "name": "stdout",
     "output_type": "stream",
     "text": [
      "[10  7 19]\n",
      "Shape : (3,)\n",
      "Dimensions: 1\n"
     ]
    },
    {
     "data": {
      "text/plain": [
       "(None, None, None)"
      ]
     },
     "execution_count": 60,
     "metadata": {},
     "output_type": "execute_result"
    }
   ],
   "source": [
    "print(array1) ,print(\"Shape :\",array1.shape) , print(\"Dimensions:\", array1.ndim)"
   ]
  },
  {
   "cell_type": "code",
   "execution_count": 61,
   "id": "ca3b114f",
   "metadata": {},
   "outputs": [
    {
     "name": "stdout",
     "output_type": "stream",
     "text": [
      "Sum of Elements in Array: 36\n",
      "Average of Elements in Array: 12.0\n",
      "Product of Elements in Array: 1330\n",
      "Minimum of Elements in Array: 7\n",
      "Maximum of Elements in Array: 19\n",
      "Median of Elements in Array: 10.0\n",
      "Std deviation of Elements in Array: 5.0990195135927845\n",
      "Varianceof Elements in Array: 26.0\n"
     ]
    }
   ],
   "source": [
    "print(\"Sum of Elements in Array:\", array1.sum())\n",
    "print(\"Average of Elements in Array:\", np.average(array1))\n",
    "print(\"Product of Elements in Array:\", np.prod(array1))\n",
    "print(\"Minimum of Elements in Array:\", np.min(array1))\n",
    "print(\"Maximum of Elements in Array:\", np.max(array1))\n",
    "print(\"Median of Elements in Array:\", np.median(array1))\n",
    "print(\"Std deviation of Elements in Array:\", np.std(array1))\n",
    "print(\"Varianceof Elements in Array:\", np.var(array1))"
   ]
  },
  {
   "cell_type": "markdown",
   "id": "b210d47b",
   "metadata": {},
   "source": [
    "### Lets Try for 3 Dimension array"
   ]
  },
  {
   "cell_type": "code",
   "execution_count": 62,
   "id": "a2b347ea",
   "metadata": {},
   "outputs": [
    {
     "name": "stdout",
     "output_type": "stream",
     "text": [
      "[[[10  7 19]\n",
      "  [ 1  2  3]\n",
      "  [20 55 90]]\n",
      "\n",
      " [[99 88 77]\n",
      "  [37 54 29]\n",
      "  [23 59 62]]]\n",
      "Shape: (2, 3, 3)\n",
      "Dimensions: 3\n"
     ]
    },
    {
     "data": {
      "text/plain": [
       "(None, None, None)"
      ]
     },
     "execution_count": 62,
     "metadata": {},
     "output_type": "execute_result"
    }
   ],
   "source": [
    "print(array3) ,print(\"Shape:\",array3.shape) ,print(\"Dimensions:\",array3.ndim)"
   ]
  },
  {
   "cell_type": "code",
   "execution_count": 63,
   "id": "75e6d02f",
   "metadata": {},
   "outputs": [
    {
     "name": "stdout",
     "output_type": "stream",
     "text": [
      "Sum of Elements in Array: 735\n",
      "Average of Elements in Array: 40.833333333333336\n",
      "Product of Elements in Array: -1063574528\n",
      "Minimum of Elements in Array: 1\n",
      "Maximum of Elements in Array: 99\n",
      "Median of Elements in Array: 33.0\n",
      "Std deviation of Elements in Array: 32.05074102107469\n",
      "Varianceof Elements in Array: 1027.25\n"
     ]
    }
   ],
   "source": [
    "print(\"Sum of Elements in Array:\", array3.sum())\n",
    "print(\"Average of Elements in Array:\", np.average(array3))\n",
    "print(\"Product of Elements in Array:\", np.prod(array3))\n",
    "print(\"Minimum of Elements in Array:\", np.min(array3))\n",
    "print(\"Maximum of Elements in Array:\", np.max(array3))\n",
    "print(\"Median of Elements in Array:\", np.median(array3))\n",
    "print(\"Std deviation of Elements in Array:\", np.std(array3))\n",
    "print(\"Varianceof Elements in Array:\", np.var(array3))"
   ]
  },
  {
   "cell_type": "markdown",
   "id": "0896bc03",
   "metadata": {},
   "source": [
    "# Transpose : Switch the axis"
   ]
  },
  {
   "cell_type": "code",
   "execution_count": 64,
   "id": "1212c3a2",
   "metadata": {},
   "outputs": [
    {
     "name": "stdout",
     "output_type": "stream",
     "text": [
      "[10  7 19]\n",
      "Shape : (3,)\n",
      "Dimensions: 1\n"
     ]
    },
    {
     "data": {
      "text/plain": [
       "(None, None, None)"
      ]
     },
     "execution_count": 64,
     "metadata": {},
     "output_type": "execute_result"
    }
   ],
   "source": [
    "print(array1) ,print(\"Shape :\",array1.shape) , print(\"Dimensions:\", array1.ndim)"
   ]
  },
  {
   "cell_type": "code",
   "execution_count": 65,
   "id": "c4790041",
   "metadata": {},
   "outputs": [],
   "source": [
    "array1_transpose = array2.T"
   ]
  },
  {
   "cell_type": "code",
   "execution_count": 66,
   "id": "d5b55dd6",
   "metadata": {},
   "outputs": [
    {
     "name": "stdout",
     "output_type": "stream",
     "text": [
      "[[10.    1.  ]\n",
      " [ 7.    2.  ]\n",
      " [19.    3.05]]\n",
      "Shape : (3, 2)\n",
      "Dimensions: 2\n"
     ]
    },
    {
     "data": {
      "text/plain": [
       "(None, None, None)"
      ]
     },
     "execution_count": 66,
     "metadata": {},
     "output_type": "execute_result"
    }
   ],
   "source": [
    "print(array1_transpose) ,print(\"Shape :\",array1_transpose.shape) , print(\"Dimensions:\", array1_transpose.ndim)"
   ]
  },
  {
   "cell_type": "markdown",
   "id": "9427ead8",
   "metadata": {},
   "source": [
    "## 📌Session 6 : Dot Product vs Element Wise "
   ]
  },
  {
   "cell_type": "markdown",
   "id": "a3302878",
   "metadata": {},
   "source": [
    "#### 📚Resources :  Dot Product vs Element Wise :-https://www.mathwarehouse.com/algebra/matrix/multiply-matrix.php"
   ]
  },
  {
   "cell_type": "code",
   "execution_count": 67,
   "id": "d5dc9533",
   "metadata": {},
   "outputs": [],
   "source": [
    "np.random.seed(42)\n",
    "\n",
    "mat1 = np.random.randint(low = 0 ,high = 10 ,size = (5,3))\n",
    "mat2 = np.random.randint(low = 0 ,high = 10 ,size = (5,3))"
   ]
  },
  {
   "cell_type": "code",
   "execution_count": 68,
   "id": "6dd866f3",
   "metadata": {},
   "outputs": [
    {
     "name": "stdout",
     "output_type": "stream",
     "text": [
      "[[6 3 7]\n",
      " [4 6 9]\n",
      " [2 6 7]\n",
      " [4 3 7]\n",
      " [7 2 5]]\n",
      "Shape : (5, 3)\n",
      "Dimensions : 2\n"
     ]
    },
    {
     "data": {
      "text/plain": [
       "(None, None, None)"
      ]
     },
     "execution_count": 68,
     "metadata": {},
     "output_type": "execute_result"
    }
   ],
   "source": [
    "print(mat1) , print(\"Shape :\" ,mat1.shape) ,print(\"Dimensions :\",mat1.ndim)"
   ]
  },
  {
   "cell_type": "markdown",
   "id": "24bf9422",
   "metadata": {},
   "source": [
    "# Element Wise Product"
   ]
  },
  {
   "cell_type": "code",
   "execution_count": 69,
   "id": "5915afe9",
   "metadata": {},
   "outputs": [],
   "source": [
    "ewp = mat1 * mat2"
   ]
  },
  {
   "cell_type": "code",
   "execution_count": 70,
   "id": "b526b5bc",
   "metadata": {},
   "outputs": [
    {
     "name": "stdout",
     "output_type": "stream",
     "text": [
      "[[24  3 49]\n",
      " [20  6 36]\n",
      " [ 0 54 35]\n",
      " [32  0 63]\n",
      " [14 12 15]]\n",
      "Shape: (5, 3)\n",
      "Dimesnion : 2\n"
     ]
    },
    {
     "data": {
      "text/plain": [
       "(None, None, None)"
      ]
     },
     "execution_count": 70,
     "metadata": {},
     "output_type": "execute_result"
    }
   ],
   "source": [
    "print(mat1 * mat2) , print(\"Shape:\" ,ewp.shape) , print(\"Dimesnion :\" ,ewp.ndim)"
   ]
  },
  {
   "cell_type": "markdown",
   "id": "84886413",
   "metadata": {},
   "source": [
    "# Dot Product"
   ]
  },
  {
   "cell_type": "code",
   "execution_count": 71,
   "id": "94a99d5d",
   "metadata": {},
   "outputs": [
    {
     "ename": "ValueError",
     "evalue": "shapes (5,3) and (5,3) not aligned: 3 (dim 1) != 5 (dim 0)",
     "output_type": "error",
     "traceback": [
      "\u001b[1;31m---------------------------------------------------------------------------\u001b[0m",
      "\u001b[1;31mValueError\u001b[0m                                Traceback (most recent call last)",
      "\u001b[1;32m<ipython-input-71-1043dcb27a6b>\u001b[0m in \u001b[0;36m<module>\u001b[1;34m\u001b[0m\n\u001b[1;32m----> 1\u001b[1;33m \u001b[0mdp\u001b[0m \u001b[1;33m=\u001b[0m \u001b[0mnp\u001b[0m\u001b[1;33m.\u001b[0m\u001b[0mdot\u001b[0m\u001b[1;33m(\u001b[0m\u001b[0mmat1\u001b[0m \u001b[1;33m,\u001b[0m\u001b[0mmat2\u001b[0m\u001b[1;33m)\u001b[0m\u001b[1;33m\u001b[0m\u001b[1;33m\u001b[0m\u001b[0m\n\u001b[0m",
      "\u001b[1;32m<__array_function__ internals>\u001b[0m in \u001b[0;36mdot\u001b[1;34m(*args, **kwargs)\u001b[0m\n",
      "\u001b[1;31mValueError\u001b[0m: shapes (5,3) and (5,3) not aligned: 3 (dim 1) != 5 (dim 0)"
     ]
    }
   ],
   "source": [
    "dp = np.dot(mat1 ,mat2)"
   ]
  },
  {
   "cell_type": "markdown",
   "id": "8a2ce483",
   "metadata": {},
   "source": [
    "#### Hmmmm?? Why we get an error ? We are just following the steps ..Is there any rules do we need to follow? Well Yes ! Read again about Broadcasting arrays linked Below: In short the shape and dimesnions  of both arrays  is inappropriate to perfrom operations. "
   ]
  },
  {
   "cell_type": "code",
   "execution_count": 72,
   "id": "e45c9200",
   "metadata": {},
   "outputs": [],
   "source": [
    "mat1_transpose = mat1.T"
   ]
  },
  {
   "cell_type": "code",
   "execution_count": 73,
   "id": "e7aa7d54",
   "metadata": {},
   "outputs": [
    {
     "name": "stdout",
     "output_type": "stream",
     "text": [
      "[[6 4 2 4 7]\n",
      " [3 6 6 3 2]\n",
      " [7 9 7 7 5]]\n",
      "Shape: (3, 5)\n",
      "Dimesnion : 2\n"
     ]
    },
    {
     "data": {
      "text/plain": [
       "(None, None, None)"
      ]
     },
     "execution_count": 73,
     "metadata": {},
     "output_type": "execute_result"
    }
   ],
   "source": [
    "print(mat1_transpose) , print(\"Shape:\" ,mat1_transpose.shape) , print(\"Dimesnion :\" ,mat1_transpose.ndim)"
   ]
  },
  {
   "cell_type": "code",
   "execution_count": 74,
   "id": "544d5896",
   "metadata": {},
   "outputs": [],
   "source": [
    "dp_new = np.dot(mat1_transpose,mat2)"
   ]
  },
  {
   "cell_type": "code",
   "execution_count": 75,
   "id": "3963f807",
   "metadata": {},
   "outputs": [
    {
     "name": "stdout",
     "output_type": "stream",
     "text": [
      "[[ 90  70 125]\n",
      " [ 70  75 108]\n",
      " [139 109 198]]\n",
      "Shape: (3, 3)\n",
      "Dimesnion : 2\n"
     ]
    },
    {
     "data": {
      "text/plain": [
       "(None, None, None)"
      ]
     },
     "execution_count": 75,
     "metadata": {},
     "output_type": "execute_result"
    }
   ],
   "source": [
    "print(dp_new) , print(\"Shape:\" ,dp_new.shape) , print(\"Dimesnion :\" ,dp_new.ndim)"
   ]
  },
  {
   "cell_type": "markdown",
   "id": "09fc2199",
   "metadata": {},
   "source": [
    "## 🔥 Congratulations we solved the problem  again !!!!!!!!!!!"
   ]
  },
  {
   "cell_type": "markdown",
   "id": "df21e5e3",
   "metadata": {},
   "source": [
    "## 📌Session 7 : Sorting Arrays"
   ]
  },
  {
   "cell_type": "code",
   "execution_count": 76,
   "id": "8d4c043a",
   "metadata": {},
   "outputs": [
    {
     "name": "stdout",
     "output_type": "stream",
     "text": [
      "[[ 6 19 14 10  7]\n",
      " [ 6 18 10 10  3]\n",
      " [ 7  2  1 11  5]\n",
      " [ 1  0 11 11 16]\n",
      " [ 9 15 14 14 18]]\n"
     ]
    }
   ],
   "source": [
    "np.random.seed(42)\n",
    "\n",
    "random = np.random.randint(20 ,size = (5,5) )\n",
    "print(random)"
   ]
  },
  {
   "cell_type": "code",
   "execution_count": 77,
   "id": "7f3166a2",
   "metadata": {},
   "outputs": [
    {
     "name": "stdout",
     "output_type": "stream",
     "text": [
      "[[ 6  7 10 14 19]\n",
      " [ 3  6 10 10 18]\n",
      " [ 1  2  5  7 11]\n",
      " [ 0  1 11 11 16]\n",
      " [ 9 14 14 15 18]]\n"
     ]
    }
   ],
   "source": [
    "random_sort = np.sort(random)\n",
    "print(random_sort)"
   ]
  },
  {
   "cell_type": "code",
   "execution_count": 78,
   "id": "669c27a9",
   "metadata": {},
   "outputs": [
    {
     "name": "stdout",
     "output_type": "stream",
     "text": [
      "[[0 4 3 2 1]\n",
      " [4 0 2 3 1]\n",
      " [2 1 4 0 3]\n",
      " [1 0 2 3 4]\n",
      " [0 2 3 1 4]]\n"
     ]
    }
   ],
   "source": [
    "\n",
    "# It shows the indices of the random numbers that where it should be (position) after the sorting \n",
    "\n",
    "indices_of_sorted_randoms =np.argsort(random)\n",
    "print(indices_of_sorted_randoms)"
   ]
  },
  {
   "cell_type": "code",
   "execution_count": 79,
   "id": "bae6786f",
   "metadata": {},
   "outputs": [
    {
     "name": "stdout",
     "output_type": "stream",
     "text": [
      "1\n"
     ]
    }
   ],
   "source": [
    "max_random_values_index = np.argmax(random ) # use axis = 0 : rows | 1 :colms \n",
    "print(max_random_values_index)"
   ]
  },
  {
   "cell_type": "code",
   "execution_count": 80,
   "id": "80679e53",
   "metadata": {},
   "outputs": [
    {
     "name": "stdout",
     "output_type": "stream",
     "text": [
      "16\n"
     ]
    }
   ],
   "source": [
    "min_random_values_index = np.argmin(random)  # use axis = 0 : rows | 1 :colms \n",
    "print(min_random_values_index)"
   ]
  },
  {
   "cell_type": "markdown",
   "id": "b8db1584",
   "metadata": {},
   "source": [
    "## 📌Session 8 : Turning Images into Numpy arrays ( Practical Example  )"
   ]
  },
  {
   "cell_type": "code",
   "execution_count": 81,
   "id": "8e49bc2d",
   "metadata": {},
   "outputs": [],
   "source": [
    "# <img src = \"images/panda.png\"/> in markdown cell"
   ]
  },
  {
   "cell_type": "markdown",
   "id": "70cde02b",
   "metadata": {},
   "source": [
    "<img src= \"images/panda.png\"/>"
   ]
  },
  {
   "cell_type": "code",
   "execution_count": 82,
   "id": "6c32615f",
   "metadata": {},
   "outputs": [],
   "source": [
    "from matplotlib.image import imread"
   ]
  },
  {
   "cell_type": "code",
   "execution_count": 83,
   "id": "459431ab",
   "metadata": {},
   "outputs": [],
   "source": [
    "panda = imread(\"images/panda.png\")"
   ]
  },
  {
   "cell_type": "code",
   "execution_count": 84,
   "id": "7121e32c",
   "metadata": {},
   "outputs": [
    {
     "name": "stdout",
     "output_type": "stream",
     "text": [
      "[[[0.05490196 0.10588235 0.06666667]\n",
      "  [0.05490196 0.10588235 0.06666667]\n",
      "  [0.05490196 0.10588235 0.06666667]\n",
      "  ...\n",
      "  [0.16470589 0.12941177 0.09411765]\n",
      "  [0.16470589 0.12941177 0.09411765]\n",
      "  [0.16470589 0.12941177 0.09411765]]\n",
      "\n",
      " [[0.05490196 0.10588235 0.06666667]\n",
      "  [0.05490196 0.10588235 0.06666667]\n",
      "  [0.05490196 0.10588235 0.06666667]\n",
      "  ...\n",
      "  [0.16470589 0.12941177 0.09411765]\n",
      "  [0.16470589 0.12941177 0.09411765]\n",
      "  [0.16470589 0.12941177 0.09411765]]\n",
      "\n",
      " [[0.05490196 0.10588235 0.06666667]\n",
      "  [0.05490196 0.10588235 0.06666667]\n",
      "  [0.05490196 0.10588235 0.06666667]\n",
      "  ...\n",
      "  [0.16470589 0.12941177 0.09411765]\n",
      "  [0.16470589 0.12941177 0.09411765]\n",
      "  [0.16470589 0.12941177 0.09411765]]\n",
      "\n",
      " ...\n",
      "\n",
      " [[0.13333334 0.07450981 0.05490196]\n",
      "  [0.12156863 0.0627451  0.04313726]\n",
      "  [0.10980392 0.05098039 0.03137255]\n",
      "  ...\n",
      "  [0.02745098 0.02745098 0.03529412]\n",
      "  [0.02745098 0.02745098 0.03529412]\n",
      "  [0.02745098 0.02745098 0.03529412]]\n",
      "\n",
      " [[0.13333334 0.07450981 0.05490196]\n",
      "  [0.12156863 0.0627451  0.04313726]\n",
      "  [0.12156863 0.0627451  0.04313726]\n",
      "  ...\n",
      "  [0.02352941 0.02352941 0.03137255]\n",
      "  [0.02352941 0.02352941 0.03137255]\n",
      "  [0.02352941 0.02352941 0.03137255]]\n",
      "\n",
      " [[0.13333334 0.07450981 0.05490196]\n",
      "  [0.12156863 0.0627451  0.04313726]\n",
      "  [0.12156863 0.0627451  0.04313726]\n",
      "  ...\n",
      "  [0.02352941 0.02352941 0.03137255]\n",
      "  [0.02352941 0.02352941 0.03137255]\n",
      "  [0.02352941 0.02352941 0.03137255]]]\n"
     ]
    }
   ],
   "source": [
    "print(panda)"
   ]
  },
  {
   "cell_type": "code",
   "execution_count": 85,
   "id": "b3fff4aa",
   "metadata": {},
   "outputs": [
    {
     "name": "stdout",
     "output_type": "stream",
     "text": [
      "Size : 24465000\n",
      "Shape : (2330, 3500, 3)\n",
      "Data type : float32\n",
      "Dimension of array: 3\n",
      "Type of array : <class 'numpy.ndarray'>\n"
     ]
    }
   ],
   "source": [
    "print(\"Size :\",panda.size)  # rows * cols * rgb \n",
    "print(\"Shape :\" , panda.shape) \n",
    "print(\"Data type :\",panda.dtype)\n",
    "print(\"Dimension of array:\" , panda.ndim)\n",
    "print(\"Type of array :\" ,type(panda))"
   ]
  },
  {
   "cell_type": "markdown",
   "id": "0fa36ccf",
   "metadata": {},
   "source": [
    "## 🚀 Exercise : Try it out for Car and Dog image"
   ]
  },
  {
   "cell_type": "markdown",
   "id": "84de5672",
   "metadata": {},
   "source": [
    "## 💻 Practical Implementation  : Nut Butter Store Sales (Optional) "
   ]
  },
  {
   "cell_type": "markdown",
   "id": "3e41db44",
   "metadata": {},
   "source": [
    "### Create Sales Amounts array"
   ]
  },
  {
   "cell_type": "code",
   "execution_count": 86,
   "id": "faff5d4a",
   "metadata": {},
   "outputs": [
    {
     "name": "stdout",
     "output_type": "stream",
     "text": [
      "[[ 6 19 14]\n",
      " [10  7  6]\n",
      " [18 10 10]\n",
      " [ 3  7  2]\n",
      " [ 1 11  5]]\n",
      "Shape: (5, 3)\n",
      "Dimensions : 2\n"
     ]
    },
    {
     "data": {
      "text/plain": [
       "(None, None, None)"
      ]
     },
     "execution_count": 86,
     "metadata": {},
     "output_type": "execute_result"
    }
   ],
   "source": [
    "np.random.seed(42)\n",
    "\n",
    "sales_amts = np.random.randint(20 ,size =(5,3))\n",
    "print(sales_amts) ,print(\"Shape:\",sales_amts.shape) ,print(\"Dimensions :\",sales_amts.ndim)"
   ]
  },
  {
   "cell_type": "markdown",
   "id": "7c7e824a",
   "metadata": {},
   "source": [
    "### Create Pandas Dataframe"
   ]
  },
  {
   "cell_type": "code",
   "execution_count": 87,
   "id": "1d5b3135",
   "metadata": {},
   "outputs": [],
   "source": [
    "import pandas as pd"
   ]
  },
  {
   "cell_type": "code",
   "execution_count": 88,
   "id": "9504d12c",
   "metadata": {},
   "outputs": [],
   "source": [
    "weekly_sales = pd.DataFrame(sales_amts , index=[\"Mon\" ,\"Tues\" ,\"Wed\" ,\"Thurs\" ,\"Fri\"] \n",
    "                            ,columns= [\"Almond Butter\" ,\"Peanut Butter\" ,\"Cashew Butter\"]) "
   ]
  },
  {
   "cell_type": "code",
   "execution_count": 89,
   "id": "ea082eec",
   "metadata": {},
   "outputs": [
    {
     "name": "stdout",
     "output_type": "stream",
     "text": [
      "       Almond Butter  Peanut Butter  Cashew Butter\n",
      "Mon                6             19             14\n",
      "Tues              10              7              6\n",
      "Wed               18             10             10\n",
      "Thurs              3              7              2\n",
      "Fri                1             11              5\n"
     ]
    }
   ],
   "source": [
    "print(weekly_sales)"
   ]
  },
  {
   "cell_type": "markdown",
   "id": "d614af9e",
   "metadata": {},
   "source": [
    "### Create Price array"
   ]
  },
  {
   "cell_type": "code",
   "execution_count": 90,
   "id": "83c51b2f",
   "metadata": {},
   "outputs": [
    {
     "name": "stdout",
     "output_type": "stream",
     "text": [
      "[10 12  8]\n",
      "Shape : (3,)\n",
      "Dimension: 1\n"
     ]
    },
    {
     "data": {
      "text/plain": [
       "(None, None, None)"
      ]
     },
     "execution_count": 90,
     "metadata": {},
     "output_type": "execute_result"
    }
   ],
   "source": [
    "prices = np.array([10,12,8])\n",
    "print(prices) ,print(\"Shape :\",prices.shape) , print(\"Dimension:\",prices.ndim)"
   ]
  },
  {
   "cell_type": "markdown",
   "id": "8c8555b8",
   "metadata": {},
   "source": [
    "### Create Pandas Dataframe for Prices"
   ]
  },
  {
   "cell_type": "code",
   "execution_count": 91,
   "id": "bcf6022e",
   "metadata": {},
   "outputs": [],
   "source": [
    "prices_df = pd.DataFrame(prices.reshape(1,3) , index=[\"Prices\"] , columns= [\"Almond Butter\" ,\"Peanut Butter\" ,\"Cashew Butter\"])"
   ]
  },
  {
   "cell_type": "code",
   "execution_count": 92,
   "id": "d1e2d3cd",
   "metadata": {},
   "outputs": [
    {
     "name": "stdout",
     "output_type": "stream",
     "text": [
      "        Almond Butter  Peanut Butter  Cashew Butter\n",
      "Prices             10             12              8\n"
     ]
    }
   ],
   "source": [
    "print(prices_df)"
   ]
  },
  {
   "cell_type": "markdown",
   "id": "24cebb11",
   "metadata": {},
   "source": [
    "## Total sales array "
   ]
  },
  {
   "cell_type": "code",
   "execution_count": 93,
   "id": "12069e4f",
   "metadata": {},
   "outputs": [],
   "source": [
    "total_sales = prices.dot(sales_amts.T)"
   ]
  },
  {
   "cell_type": "code",
   "execution_count": 94,
   "id": "c1982958",
   "metadata": {},
   "outputs": [
    {
     "name": "stdout",
     "output_type": "stream",
     "text": [
      "[400 232 380 130 182]\n",
      "Shape : (5,)\n",
      "Dimension: 1\n"
     ]
    },
    {
     "data": {
      "text/plain": [
       "(None, None, None)"
      ]
     },
     "execution_count": 94,
     "metadata": {},
     "output_type": "execute_result"
    }
   ],
   "source": [
    "print(total_sales) ,print(\"Shape :\",total_sales.shape) , print(\"Dimension:\",total_sales.ndim)"
   ]
  },
  {
   "cell_type": "markdown",
   "id": "a7747f1c",
   "metadata": {},
   "source": [
    "## Merge daily sales and weekly sales dataframes"
   ]
  },
  {
   "cell_type": "code",
   "execution_count": 95,
   "id": "54933a0c",
   "metadata": {},
   "outputs": [
    {
     "data": {
      "text/plain": [
       "((1, 3), (5, 3))"
      ]
     },
     "execution_count": 95,
     "metadata": {},
     "output_type": "execute_result"
    }
   ],
   "source": [
    "prices_df.shape , weekly_sales.shape"
   ]
  },
  {
   "cell_type": "code",
   "execution_count": 96,
   "id": "f2c62c2d",
   "metadata": {},
   "outputs": [],
   "source": [
    "daily_sales = prices_df.dot(weekly_sales.T)"
   ]
  },
  {
   "cell_type": "code",
   "execution_count": 97,
   "id": "0a69bad7",
   "metadata": {},
   "outputs": [
    {
     "data": {
      "text/html": [
       "<div>\n",
       "<style scoped>\n",
       "    .dataframe tbody tr th:only-of-type {\n",
       "        vertical-align: middle;\n",
       "    }\n",
       "\n",
       "    .dataframe tbody tr th {\n",
       "        vertical-align: top;\n",
       "    }\n",
       "\n",
       "    .dataframe thead th {\n",
       "        text-align: right;\n",
       "    }\n",
       "</style>\n",
       "<table border=\"1\" class=\"dataframe\">\n",
       "  <thead>\n",
       "    <tr style=\"text-align: right;\">\n",
       "      <th></th>\n",
       "      <th>Mon</th>\n",
       "      <th>Tues</th>\n",
       "      <th>Wed</th>\n",
       "      <th>Thurs</th>\n",
       "      <th>Fri</th>\n",
       "    </tr>\n",
       "  </thead>\n",
       "  <tbody>\n",
       "    <tr>\n",
       "      <th>Prices</th>\n",
       "      <td>400</td>\n",
       "      <td>232</td>\n",
       "      <td>380</td>\n",
       "      <td>130</td>\n",
       "      <td>182</td>\n",
       "    </tr>\n",
       "  </tbody>\n",
       "</table>\n",
       "</div>"
      ],
      "text/plain": [
       "        Mon  Tues  Wed  Thurs  Fri\n",
       "Prices  400   232  380    130  182"
      ]
     },
     "execution_count": 97,
     "metadata": {},
     "output_type": "execute_result"
    }
   ],
   "source": [
    "daily_sales"
   ]
  },
  {
   "cell_type": "code",
   "execution_count": 98,
   "id": "b000be80",
   "metadata": {},
   "outputs": [
    {
     "data": {
      "text/html": [
       "<div>\n",
       "<style scoped>\n",
       "    .dataframe tbody tr th:only-of-type {\n",
       "        vertical-align: middle;\n",
       "    }\n",
       "\n",
       "    .dataframe tbody tr th {\n",
       "        vertical-align: top;\n",
       "    }\n",
       "\n",
       "    .dataframe thead th {\n",
       "        text-align: right;\n",
       "    }\n",
       "</style>\n",
       "<table border=\"1\" class=\"dataframe\">\n",
       "  <thead>\n",
       "    <tr style=\"text-align: right;\">\n",
       "      <th></th>\n",
       "      <th>Almond Butter</th>\n",
       "      <th>Peanut Butter</th>\n",
       "      <th>Cashew Butter</th>\n",
       "    </tr>\n",
       "  </thead>\n",
       "  <tbody>\n",
       "    <tr>\n",
       "      <th>Mon</th>\n",
       "      <td>6</td>\n",
       "      <td>19</td>\n",
       "      <td>14</td>\n",
       "    </tr>\n",
       "    <tr>\n",
       "      <th>Tues</th>\n",
       "      <td>10</td>\n",
       "      <td>7</td>\n",
       "      <td>6</td>\n",
       "    </tr>\n",
       "    <tr>\n",
       "      <th>Wed</th>\n",
       "      <td>18</td>\n",
       "      <td>10</td>\n",
       "      <td>10</td>\n",
       "    </tr>\n",
       "    <tr>\n",
       "      <th>Thurs</th>\n",
       "      <td>3</td>\n",
       "      <td>7</td>\n",
       "      <td>2</td>\n",
       "    </tr>\n",
       "    <tr>\n",
       "      <th>Fri</th>\n",
       "      <td>1</td>\n",
       "      <td>11</td>\n",
       "      <td>5</td>\n",
       "    </tr>\n",
       "  </tbody>\n",
       "</table>\n",
       "</div>"
      ],
      "text/plain": [
       "       Almond Butter  Peanut Butter  Cashew Butter\n",
       "Mon                6             19             14\n",
       "Tues              10              7              6\n",
       "Wed               18             10             10\n",
       "Thurs              3              7              2\n",
       "Fri                1             11              5"
      ]
     },
     "execution_count": 98,
     "metadata": {},
     "output_type": "execute_result"
    }
   ],
   "source": [
    "weekly_sales"
   ]
  },
  {
   "cell_type": "code",
   "execution_count": 99,
   "id": "430bd82a",
   "metadata": {},
   "outputs": [],
   "source": [
    "weekly_sales[\"Total ($)\"] = daily_sales.T"
   ]
  },
  {
   "cell_type": "markdown",
   "id": "b8c369fa",
   "metadata": {},
   "source": [
    "## Final Output"
   ]
  },
  {
   "cell_type": "code",
   "execution_count": 100,
   "id": "0a87d700",
   "metadata": {},
   "outputs": [
    {
     "data": {
      "text/html": [
       "<div>\n",
       "<style scoped>\n",
       "    .dataframe tbody tr th:only-of-type {\n",
       "        vertical-align: middle;\n",
       "    }\n",
       "\n",
       "    .dataframe tbody tr th {\n",
       "        vertical-align: top;\n",
       "    }\n",
       "\n",
       "    .dataframe thead th {\n",
       "        text-align: right;\n",
       "    }\n",
       "</style>\n",
       "<table border=\"1\" class=\"dataframe\">\n",
       "  <thead>\n",
       "    <tr style=\"text-align: right;\">\n",
       "      <th></th>\n",
       "      <th>Almond Butter</th>\n",
       "      <th>Peanut Butter</th>\n",
       "      <th>Cashew Butter</th>\n",
       "      <th>Total ($)</th>\n",
       "    </tr>\n",
       "  </thead>\n",
       "  <tbody>\n",
       "    <tr>\n",
       "      <th>Mon</th>\n",
       "      <td>6</td>\n",
       "      <td>19</td>\n",
       "      <td>14</td>\n",
       "      <td>400</td>\n",
       "    </tr>\n",
       "    <tr>\n",
       "      <th>Tues</th>\n",
       "      <td>10</td>\n",
       "      <td>7</td>\n",
       "      <td>6</td>\n",
       "      <td>232</td>\n",
       "    </tr>\n",
       "    <tr>\n",
       "      <th>Wed</th>\n",
       "      <td>18</td>\n",
       "      <td>10</td>\n",
       "      <td>10</td>\n",
       "      <td>380</td>\n",
       "    </tr>\n",
       "    <tr>\n",
       "      <th>Thurs</th>\n",
       "      <td>3</td>\n",
       "      <td>7</td>\n",
       "      <td>2</td>\n",
       "      <td>130</td>\n",
       "    </tr>\n",
       "    <tr>\n",
       "      <th>Fri</th>\n",
       "      <td>1</td>\n",
       "      <td>11</td>\n",
       "      <td>5</td>\n",
       "      <td>182</td>\n",
       "    </tr>\n",
       "  </tbody>\n",
       "</table>\n",
       "</div>"
      ],
      "text/plain": [
       "       Almond Butter  Peanut Butter  Cashew Butter  Total ($)\n",
       "Mon                6             19             14        400\n",
       "Tues              10              7              6        232\n",
       "Wed               18             10             10        380\n",
       "Thurs              3              7              2        130\n",
       "Fri                1             11              5        182"
      ]
     },
     "execution_count": 100,
     "metadata": {},
     "output_type": "execute_result"
    }
   ],
   "source": [
    "weekly_sales"
   ]
  },
  {
   "cell_type": "markdown",
   "id": "5030ea12",
   "metadata": {},
   "source": [
    "## Congratulations ..You are 🐐 of Numpy now.. I apprepreciate your efforts and Learning .."
   ]
  }
 ],
 "metadata": {
  "kernelspec": {
   "display_name": "Python 3",
   "language": "python",
   "name": "python3"
  },
  "language_info": {
   "codemirror_mode": {
    "name": "ipython",
    "version": 3
   },
   "file_extension": ".py",
   "mimetype": "text/x-python",
   "name": "python",
   "nbconvert_exporter": "python",
   "pygments_lexer": "ipython3",
   "version": "3.8.8"
  }
 },
 "nbformat": 4,
 "nbformat_minor": 5
}
