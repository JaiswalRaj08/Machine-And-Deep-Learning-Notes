{
 "cells": [
  {
   "cell_type": "markdown",
   "id": "8e335638",
   "metadata": {},
   "source": [
    "# Title : Tensorflow 2.0 Fundamentals\n",
    "### Author : Raj Shivprakash Poonam Jaiswal\n",
    "### LinkedIn : https://www.linkedin.com/in/raj-jaiswal-481a33216/\n",
    "### Twitter: https://twitter.com/home\n",
    "### Github :https://github.com/Jaiswalraj2908"
   ]
  },
  {
   "cell_type": "markdown",
   "id": "c55b8ebd",
   "metadata": {},
   "source": [
    "### 💻: Build Exercise Solutions\n",
    "### 🌈: Note / conclusion\n",
    "### 📚: Resources \n",
    "### 📌: Session\n",
    "### 🚀: Exercise"
   ]
  },
  {
   "cell_type": "markdown",
   "id": "17b95615",
   "metadata": {},
   "source": [
    "## 🧠PRO TIP : \n",
    "\n",
    " 1. Read and Understand the errors present between the code cells.\n",
    " 2. If in doubt run the code \n",
    " 3. Dont hesistate to implement and explore more using resources."
   ]
  },
  {
   "cell_type": "markdown",
   "id": "83f0f1db",
   "metadata": {},
   "source": [
    "I have intentionally written some codes which will produce error so you can debugg it by yourself and make your self better in tensorflow"
   ]
  },
  {
   "cell_type": "markdown",
   "id": "d837afe1",
   "metadata": {},
   "source": [
    "## Import Tensorflow "
   ]
  },
  {
   "cell_type": "markdown",
   "id": "29a5f4d1",
   "metadata": {},
   "source": [
    "Download tensorflow : !pip install tensorflow or Use Google collab "
   ]
  },
  {
   "cell_type": "code",
   "execution_count": 1,
   "id": "4367ff12",
   "metadata": {},
   "outputs": [
    {
     "name": "stdout",
     "output_type": "stream",
     "text": [
      "Current tensorflow version running for the project is : 2.6.0\n"
     ]
    }
   ],
   "source": [
    "import tensorflow as tf\n",
    "print(\"Current tensorflow version running for the project is :\",tf.__version__)"
   ]
  },
  {
   "cell_type": "markdown",
   "id": "503d63ca",
   "metadata": {},
   "source": [
    "### 📚Resources : Tensorflow :  https://www.tensorflow.org/api_docs/python/tf"
   ]
  },
  {
   "cell_type": "markdown",
   "id": "939f850e",
   "metadata": {},
   "source": [
    "## Introduction to Tensors"
   ]
  },
  {
   "cell_type": "markdown",
   "id": "be9e8d43",
   "metadata": {},
   "source": [
    "### 📚Resources : Intro to tensors : https://www.tensorflow.org/guide/tensor"
   ]
  },
  {
   "cell_type": "markdown",
   "id": "0541cbb7",
   "metadata": {},
   "source": [
    "# 📌Session 1 : Creating tensors with tf.constant()"
   ]
  },
  {
   "cell_type": "code",
   "execution_count": 3,
   "id": "bf4b50b1",
   "metadata": {},
   "outputs": [
    {
     "name": "stdout",
     "output_type": "stream",
     "text": [
      "tf.Tensor(10, shape=(), dtype=int32)\n",
      "Dimension : 0\n"
     ]
    },
    {
     "data": {
      "text/plain": [
       "(None, None)"
      ]
     },
     "execution_count": 3,
     "metadata": {},
     "output_type": "execute_result"
    }
   ],
   "source": [
    "scalar = tf.constant(10)\n",
    "print(scalar) , print(\"Dimension :\",scalar.ndim) "
   ]
  },
  {
   "cell_type": "code",
   "execution_count": 4,
   "id": "920b6c21",
   "metadata": {},
   "outputs": [
    {
     "name": "stdout",
     "output_type": "stream",
     "text": [
      "tf.Tensor([10  7], shape=(2,), dtype=int32)\n",
      "Dimension : 1\n"
     ]
    },
    {
     "data": {
      "text/plain": [
       "(None, None)"
      ]
     },
     "execution_count": 4,
     "metadata": {},
     "output_type": "execute_result"
    }
   ],
   "source": [
    "vector = tf.constant([10,7])\n",
    "print(vector) , print(\"Dimension :\",vector.ndim)"
   ]
  },
  {
   "cell_type": "code",
   "execution_count": 5,
   "id": "3a551576",
   "metadata": {},
   "outputs": [
    {
     "name": "stdout",
     "output_type": "stream",
     "text": [
      "tf.Tensor(\n",
      "[[10  7]\n",
      " [11 15]], shape=(2, 2), dtype=int32)\n",
      "Dimension : 2\n"
     ]
    },
    {
     "data": {
      "text/plain": [
       "(None, None)"
      ]
     },
     "execution_count": 5,
     "metadata": {},
     "output_type": "execute_result"
    }
   ],
   "source": [
    "matrix = tf.constant([[10,7],\n",
    "                     [11,15]])\n",
    "print(matrix) ,print(\"Dimension :\",matrix.ndim)"
   ]
  },
  {
   "cell_type": "code",
   "execution_count": 6,
   "id": "5448fb13",
   "metadata": {},
   "outputs": [
    {
     "name": "stdout",
     "output_type": "stream",
     "text": [
      "tf.Tensor(\n",
      "[[[10.   7. ]\n",
      "  [11.2 15. ]\n",
      "  [20.  55. ]]\n",
      "\n",
      " [[88.  95. ]\n",
      "  [36.5 42. ]\n",
      "  [23.  69. ]]], shape=(2, 3, 2), dtype=float16)\n",
      "Dimension : 3\n"
     ]
    },
    {
     "data": {
      "text/plain": [
       "(None, None)"
      ]
     },
     "execution_count": 6,
     "metadata": {},
     "output_type": "execute_result"
    }
   ],
   "source": [
    "tensor = tf.constant([[[10,7],\n",
    "                      [11.2,15],\n",
    "                      [20,55]],\n",
    "                     [[88,95],\n",
    "                     [36.5,42],\n",
    "                     [23,69]]] ,dtype=tf.float16)\n",
    "print(tensor) ,print(\"Dimension :\",tensor.ndim)"
   ]
  },
  {
   "cell_type": "markdown",
   "id": "dc5744de",
   "metadata": {},
   "source": [
    "#  📌Session 2 : Creating tensors with tf.Variable()"
   ]
  },
  {
   "cell_type": "code",
   "execution_count": 8,
   "id": "86326065",
   "metadata": {},
   "outputs": [],
   "source": [
    "changable_tensor = tf.Variable([10,7])\n",
    "unchagable_tensor = tf.constant([10,7])"
   ]
  },
  {
   "cell_type": "code",
   "execution_count": 9,
   "id": "defad520",
   "metadata": {},
   "outputs": [
    {
     "name": "stdout",
     "output_type": "stream",
     "text": [
      "Changable tensor : <tf.Variable 'Variable:0' shape=(2,) dtype=int32, numpy=array([10,  7])>\n"
     ]
    }
   ],
   "source": [
    "print(\"Changable tensor :\",changable_tensor)"
   ]
  },
  {
   "cell_type": "code",
   "execution_count": 10,
   "id": "a8132b40",
   "metadata": {},
   "outputs": [
    {
     "name": "stdout",
     "output_type": "stream",
     "text": [
      "Unchangeble Tensor : tf.Tensor([10  7], shape=(2,), dtype=int32)\n"
     ]
    }
   ],
   "source": [
    "print(\"Unchangeble Tensor :\",unchagable_tensor)"
   ]
  },
  {
   "cell_type": "markdown",
   "id": "a0e21683",
   "metadata": {},
   "source": [
    "### new item assign to changable and unchangeble tensor"
   ]
  },
  {
   "cell_type": "code",
   "execution_count": 12,
   "id": "6d824f8e",
   "metadata": {},
   "outputs": [
    {
     "name": "stdout",
     "output_type": "stream",
     "text": [
      "<tf.Variable 'UnreadVariable' shape=(2,) dtype=int32, numpy=array([7, 7])>\n"
     ]
    }
   ],
   "source": [
    "changable_tensor_2 = changable_tensor[0].assign(7)\n",
    "print(changable_tensor_2)"
   ]
  },
  {
   "cell_type": "code",
   "execution_count": 13,
   "id": "85b2f909",
   "metadata": {},
   "outputs": [
    {
     "ename": "AttributeError",
     "evalue": "'tensorflow.python.framework.ops.EagerTensor' object has no attribute 'assign'",
     "output_type": "error",
     "traceback": [
      "\u001b[1;31m---------------------------------------------------------------------------\u001b[0m",
      "\u001b[1;31mAttributeError\u001b[0m                            Traceback (most recent call last)",
      "\u001b[1;32m<ipython-input-13-964f8103ec14>\u001b[0m in \u001b[0;36m<module>\u001b[1;34m\u001b[0m\n\u001b[1;32m----> 1\u001b[1;33m \u001b[0munchageble_tensor_2\u001b[0m \u001b[1;33m=\u001b[0m \u001b[0munchagable_tensor\u001b[0m\u001b[1;33m[\u001b[0m\u001b[1;36m0\u001b[0m\u001b[1;33m]\u001b[0m\u001b[1;33m.\u001b[0m\u001b[0massign\u001b[0m\u001b[1;33m(\u001b[0m\u001b[1;36m7\u001b[0m\u001b[1;33m)\u001b[0m\u001b[1;33m\u001b[0m\u001b[1;33m\u001b[0m\u001b[0m\n\u001b[0m\u001b[0;32m      2\u001b[0m \u001b[0mprint\u001b[0m\u001b[1;33m(\u001b[0m\u001b[0munchageble_tensor_2\u001b[0m\u001b[1;33m)\u001b[0m\u001b[1;33m\u001b[0m\u001b[1;33m\u001b[0m\u001b[0m\n",
      "\u001b[1;32mC:\\ProgramData\\Anaconda3\\lib\\site-packages\\tensorflow\\python\\framework\\ops.py\u001b[0m in \u001b[0;36m__getattr__\u001b[1;34m(self, name)\u001b[0m\n\u001b[0;32m    399\u001b[0m         \u001b[1;32mfrom\u001b[0m \u001b[0mtensorflow\u001b[0m\u001b[1;33m.\u001b[0m\u001b[0mpython\u001b[0m\u001b[1;33m.\u001b[0m\u001b[0mops\u001b[0m\u001b[1;33m.\u001b[0m\u001b[0mnumpy_ops\u001b[0m \u001b[1;32mimport\u001b[0m \u001b[0mnp_config\u001b[0m\u001b[1;33m\u001b[0m\u001b[1;33m\u001b[0m\u001b[0m\n\u001b[0;32m    400\u001b[0m         np_config.enable_numpy_behavior()\"\"\".format(type(self).__name__, name))\n\u001b[1;32m--> 401\u001b[1;33m     \u001b[0mself\u001b[0m\u001b[1;33m.\u001b[0m\u001b[0m__getattribute__\u001b[0m\u001b[1;33m(\u001b[0m\u001b[0mname\u001b[0m\u001b[1;33m)\u001b[0m\u001b[1;33m\u001b[0m\u001b[1;33m\u001b[0m\u001b[0m\n\u001b[0m\u001b[0;32m    402\u001b[0m \u001b[1;33m\u001b[0m\u001b[0m\n\u001b[0;32m    403\u001b[0m   \u001b[1;33m@\u001b[0m\u001b[0mstaticmethod\u001b[0m\u001b[1;33m\u001b[0m\u001b[1;33m\u001b[0m\u001b[0m\n",
      "\u001b[1;31mAttributeError\u001b[0m: 'tensorflow.python.framework.ops.EagerTensor' object has no attribute 'assign'"
     ]
    }
   ],
   "source": [
    "unchageble_tensor_2 = unchagable_tensor[0].assign(7)\n",
    "print(unchageble_tensor_2)"
   ]
  },
  {
   "cell_type": "markdown",
   "id": "bd57cc9a",
   "metadata": {},
   "source": [
    "### 🌈 Conclusion : tf.constant() has no flexibility to change its elements while tf.Variable () has ."
   ]
  },
  {
   "cell_type": "markdown",
   "id": "cfda6438",
   "metadata": {},
   "source": [
    "# 📌Session 3 : Creating random tensors using tensorflow"
   ]
  },
  {
   "cell_type": "markdown",
   "id": "27ac63b4",
   "metadata": {},
   "source": [
    "These random numbers are pseudo random numbers"
   ]
  },
  {
   "cell_type": "code",
   "execution_count": 14,
   "id": "c6616d18",
   "metadata": {},
   "outputs": [
    {
     "name": "stdout",
     "output_type": "stream",
     "text": [
      "tf.Tensor(\n",
      "[[-1.9479886   1.1856734 ]\n",
      " [ 0.01003122  0.22352912]\n",
      " [-0.06907108 -1.0121607 ]], shape=(3, 2), dtype=float32)\n",
      "Dimension : 2\n"
     ]
    },
    {
     "data": {
      "text/plain": [
       "(None, None)"
      ]
     },
     "execution_count": 14,
     "metadata": {},
     "output_type": "execute_result"
    }
   ],
   "source": [
    "random_tensor = tf.random.normal(shape = (3,2))\n",
    "print(random_tensor) , print(\"Dimension :\",random_tensor.ndim)"
   ]
  },
  {
   "cell_type": "code",
   "execution_count": 15,
   "id": "7077397f",
   "metadata": {},
   "outputs": [
    {
     "name": "stdout",
     "output_type": "stream",
     "text": [
      "tf.Tensor(\n",
      "[[ 0.3274685 -0.8426258]\n",
      " [ 0.3194337 -1.4075519]\n",
      " [-2.3880599 -1.0392479]], shape=(3, 2), dtype=float32)\n",
      "Dimension: 2\n"
     ]
    },
    {
     "data": {
      "text/plain": [
       "(None, None)"
      ]
     },
     "execution_count": 15,
     "metadata": {},
     "output_type": "execute_result"
    }
   ],
   "source": [
    "tf.random.set_seed(42)                             # set seed for reproducibility\n",
    "\n",
    "random_tensor_1 = tf.random.normal(shape = (3,2))\n",
    "print(random_tensor_1) ,print(\"Dimension:\",random_tensor_1.ndim)"
   ]
  },
  {
   "cell_type": "code",
   "execution_count": 16,
   "id": "f3f19a77",
   "metadata": {},
   "outputs": [
    {
     "data": {
      "text/plain": [
       "<tf.Tensor: shape=(3, 2), dtype=bool, numpy=\n",
       "array([[False, False],\n",
       "       [False, False],\n",
       "       [False, False]])>"
      ]
     },
     "execution_count": 16,
     "metadata": {},
     "output_type": "execute_result"
    }
   ],
   "source": [
    "random_tensor == random_tensor_1 "
   ]
  },
  {
   "cell_type": "markdown",
   "id": "0479778e",
   "metadata": {},
   "source": [
    "### since the elements in random tensor above continoulsly varying both are unequal "
   ]
  },
  {
   "cell_type": "code",
   "execution_count": 17,
   "id": "964c8fa8",
   "metadata": {},
   "outputs": [
    {
     "name": "stdout",
     "output_type": "stream",
     "text": [
      "tf.Tensor(\n",
      "[[ 0.3274685 -0.8426258]\n",
      " [ 0.3194337 -1.4075519]\n",
      " [-2.3880599 -1.0392479]], shape=(3, 2), dtype=float32)\n",
      "Dimension  2\n"
     ]
    },
    {
     "data": {
      "text/plain": [
       "(None, None)"
      ]
     },
     "execution_count": 17,
     "metadata": {},
     "output_type": "execute_result"
    }
   ],
   "source": [
    "tf.random.set_seed(42)\n",
    "\n",
    "random_tensor_2 = tf.random.normal(shape = (3,2))\n",
    "print(random_tensor_2) ,print(\"Dimension \",random_tensor_2.ndim)"
   ]
  },
  {
   "cell_type": "markdown",
   "id": "2c6f3c28",
   "metadata": {},
   "source": [
    "### since set seed (42) is used , despite of running code cells considerable amount of time it still shows the same output"
   ]
  },
  {
   "cell_type": "code",
   "execution_count": 18,
   "id": "718e45f1",
   "metadata": {},
   "outputs": [
    {
     "data": {
      "text/plain": [
       "<tf.Tensor: shape=(3, 2), dtype=bool, numpy=\n",
       "array([[ True,  True],\n",
       "       [ True,  True],\n",
       "       [ True,  True]])>"
      ]
     },
     "execution_count": 18,
     "metadata": {},
     "output_type": "execute_result"
    }
   ],
   "source": [
    "\n",
    "random_tensor_1 == random_tensor_2\n"
   ]
  },
  {
   "cell_type": "markdown",
   "id": "730790ad",
   "metadata": {},
   "source": [
    "### 🌈 conclusion : Since set seed(42) is present , both displays same output "
   ]
  },
  {
   "cell_type": "code",
   "execution_count": 19,
   "id": "2142dfea",
   "metadata": {},
   "outputs": [
    {
     "name": "stdout",
     "output_type": "stream",
     "text": [
      "tf.Tensor(\n",
      "[[0.6645621  0.44100678]\n",
      " [0.3528825  0.46448255]\n",
      " [0.03366041 0.68467236]], shape=(3, 2), dtype=float32)\n",
      "Dimension :  2\n"
     ]
    },
    {
     "data": {
      "text/plain": [
       "(None, None)"
      ]
     },
     "execution_count": 19,
     "metadata": {},
     "output_type": "execute_result"
    }
   ],
   "source": [
    "tf.random.set_seed(42)\n",
    "\n",
    "random_tensor_3 = tf.random.uniform(shape = (3,2))\n",
    "print(random_tensor_3) ,print(\"Dimension : \",random_tensor_3.ndim)"
   ]
  },
  {
   "cell_type": "code",
   "execution_count": 20,
   "id": "83324de9",
   "metadata": {},
   "outputs": [
    {
     "data": {
      "text/plain": [
       "<tf.Tensor: shape=(3, 2), dtype=bool, numpy=\n",
       "array([[False, False],\n",
       "       [False, False],\n",
       "       [False, False]])>"
      ]
     },
     "execution_count": 20,
     "metadata": {},
     "output_type": "execute_result"
    }
   ],
   "source": [
    "random_tensor_2 == random_tensor_3 \n"
   ]
  },
  {
   "cell_type": "markdown",
   "id": "3d1a298d",
   "metadata": {},
   "source": [
    "### 🌈 Conclusion : Although they both have same shape , same dimesnion , set seed(42)  but still they both are distributed randomly in different way normal and uniform.\n"
   ]
  },
  {
   "cell_type": "markdown",
   "id": "1fba7ebd",
   "metadata": {},
   "source": [
    "### Shuffling the order of tensors . In order to keep balnce between the distribution of targets in dataset . Stratify concept "
   ]
  },
  {
   "cell_type": "code",
   "execution_count": 22,
   "id": "9e785c7b",
   "metadata": {},
   "outputs": [
    {
     "name": "stdout",
     "output_type": "stream",
     "text": [
      "tf.Tensor(\n",
      "[[10  7]\n",
      " [ 3  2]\n",
      " [15 20]], shape=(3, 2), dtype=int32)\n",
      "Dimension : 2\n"
     ]
    },
    {
     "data": {
      "text/plain": [
       "(None, None)"
      ]
     },
     "execution_count": 22,
     "metadata": {},
     "output_type": "execute_result"
    }
   ],
   "source": [
    "not_shuffle = tf.constant([[10,7],\n",
    "                          [3,2],\n",
    "                          [15,20]])\n",
    "print(not_shuffle) ,print(\"Dimension :\",not_shuffle.ndim)"
   ]
  },
  {
   "cell_type": "markdown",
   "id": "cdd956a5",
   "metadata": {},
   "source": [
    " ###  shuffle by rows"
   ]
  },
  {
   "cell_type": "code",
   "execution_count": 23,
   "id": "da2d8502",
   "metadata": {},
   "outputs": [
    {
     "name": "stdout",
     "output_type": "stream",
     "text": [
      "tf.Tensor(\n",
      "[[15 20]\n",
      " [10  7]\n",
      " [ 3  2]], shape=(3, 2), dtype=int32)\n",
      "Dimension :  2\n"
     ]
    },
    {
     "data": {
      "text/plain": [
       "(None, None)"
      ]
     },
     "execution_count": 23,
     "metadata": {},
     "output_type": "execute_result"
    }
   ],
   "source": [
    "shuffle_tensor = tf.random.shuffle(not_shuffle)\n",
    "print(shuffle_tensor) ,print(\"Dimension : \",shuffle_tensor.ndim)"
   ]
  },
  {
   "cell_type": "markdown",
   "id": "2dd36e52",
   "metadata": {},
   "source": [
    "### Example of local / operational level set seed"
   ]
  },
  {
   "cell_type": "code",
   "execution_count": 24,
   "id": "3c903f98",
   "metadata": {},
   "outputs": [
    {
     "name": "stdout",
     "output_type": "stream",
     "text": [
      "tf.Tensor(\n",
      "[[10  7]\n",
      " [ 3  2]\n",
      " [15 20]], shape=(3, 2), dtype=int32)\n",
      "Dimension :  2\n"
     ]
    },
    {
     "data": {
      "text/plain": [
       "(None, None)"
      ]
     },
     "execution_count": 24,
     "metadata": {},
     "output_type": "execute_result"
    }
   ],
   "source": [
    "shuffle_tensor = tf.random.shuffle(not_shuffle , seed = 42)\n",
    "print(shuffle_tensor) ,print(\"Dimension : \",shuffle_tensor.ndim)"
   ]
  },
  {
   "cell_type": "markdown",
   "id": "f55377be",
   "metadata": {},
   "source": [
    "### Example of global level set seed"
   ]
  },
  {
   "cell_type": "code",
   "execution_count": 25,
   "id": "ac1195c8",
   "metadata": {},
   "outputs": [
    {
     "name": "stdout",
     "output_type": "stream",
     "text": [
      "tf.Tensor(\n",
      "[[ 3  2]\n",
      " [15 20]\n",
      " [10  7]], shape=(3, 2), dtype=int32)\n",
      "Dimension :  2\n"
     ]
    },
    {
     "data": {
      "text/plain": [
       "(None, None)"
      ]
     },
     "execution_count": 25,
     "metadata": {},
     "output_type": "execute_result"
    }
   ],
   "source": [
    "\n",
    "tf.random.set_seed(42)\n",
    "\n",
    "shuffle_tensor = tf.random.shuffle(not_shuffle)\n",
    "print(shuffle_tensor) ,print(\"Dimension : \",shuffle_tensor.ndim)"
   ]
  },
  {
   "cell_type": "markdown",
   "id": "8aadf18b",
   "metadata": {},
   "source": [
    "# 📌Session 4 : NumPy arrays turn into tensors"
   ]
  },
  {
   "cell_type": "code",
   "execution_count": 26,
   "id": "f21efbf9",
   "metadata": {},
   "outputs": [],
   "source": [
    "import numpy as np"
   ]
  },
  {
   "cell_type": "code",
   "execution_count": 27,
   "id": "f980cf8c",
   "metadata": {},
   "outputs": [
    {
     "data": {
      "text/plain": [
       "<tf.Tensor: shape=(10, 5), dtype=float32, numpy=\n",
       "array([[1., 1., 1., 1., 1.],\n",
       "       [1., 1., 1., 1., 1.],\n",
       "       [1., 1., 1., 1., 1.],\n",
       "       [1., 1., 1., 1., 1.],\n",
       "       [1., 1., 1., 1., 1.],\n",
       "       [1., 1., 1., 1., 1.],\n",
       "       [1., 1., 1., 1., 1.],\n",
       "       [1., 1., 1., 1., 1.],\n",
       "       [1., 1., 1., 1., 1.],\n",
       "       [1., 1., 1., 1., 1.]], dtype=float32)>"
      ]
     },
     "execution_count": 27,
     "metadata": {},
     "output_type": "execute_result"
    }
   ],
   "source": [
    "tf.ones(shape=(10,5))"
   ]
  },
  {
   "cell_type": "code",
   "execution_count": 28,
   "id": "8ba9d613",
   "metadata": {},
   "outputs": [
    {
     "data": {
      "text/plain": [
       "<tf.Tensor: shape=(5, 3), dtype=float32, numpy=\n",
       "array([[0., 0., 0.],\n",
       "       [0., 0., 0.],\n",
       "       [0., 0., 0.],\n",
       "       [0., 0., 0.],\n",
       "       [0., 0., 0.]], dtype=float32)>"
      ]
     },
     "execution_count": 28,
     "metadata": {},
     "output_type": "execute_result"
    }
   ],
   "source": [
    "tf.zeros(shape=(5,3))"
   ]
  },
  {
   "cell_type": "markdown",
   "id": "c7c94b27",
   "metadata": {},
   "source": [
    "### can convert numpy arrays into a tensors"
   ]
  },
  {
   "cell_type": "code",
   "execution_count": 30,
   "id": "9d1a839d",
   "metadata": {},
   "outputs": [
    {
     "data": {
      "text/plain": [
       "array([ 1,  2,  3,  4,  5,  6,  7,  8,  9, 10, 11, 12, 13, 14, 15, 16, 17,\n",
       "       18, 19, 20, 21, 22, 23, 24])"
      ]
     },
     "execution_count": 30,
     "metadata": {},
     "output_type": "execute_result"
    }
   ],
   "source": [
    "numpy_A = np.arange(start = 1 , stop =25 ,dtype = np.int32)\n",
    "numpy_A "
   ]
  },
  {
   "cell_type": "code",
   "execution_count": 31,
   "id": "ea8335da",
   "metadata": {},
   "outputs": [
    {
     "name": "stdout",
     "output_type": "stream",
     "text": [
      "<class 'numpy.ndarray'>\n"
     ]
    }
   ],
   "source": [
    "print(type(numpy_A))"
   ]
  },
  {
   "cell_type": "code",
   "execution_count": 32,
   "id": "b932ef0f",
   "metadata": {},
   "outputs": [
    {
     "data": {
      "text/plain": [
       "<tf.Tensor: shape=(24,), dtype=int32, numpy=\n",
       "array([ 1,  2,  3,  4,  5,  6,  7,  8,  9, 10, 11, 12, 13, 14, 15, 16, 17,\n",
       "       18, 19, 20, 21, 22, 23, 24])>"
      ]
     },
     "execution_count": 32,
     "metadata": {},
     "output_type": "execute_result"
    }
   ],
   "source": [
    "np_to_tf = tf.constant(numpy_A)\n",
    "np_to_tf"
   ]
  },
  {
   "cell_type": "code",
   "execution_count": 33,
   "id": "caeca6ae",
   "metadata": {},
   "outputs": [
    {
     "data": {
      "text/plain": [
       "<tf.Tensor: shape=(2, 3, 4), dtype=int32, numpy=\n",
       "array([[[ 1,  2,  3,  4],\n",
       "        [ 5,  6,  7,  8],\n",
       "        [ 9, 10, 11, 12]],\n",
       "\n",
       "       [[13, 14, 15, 16],\n",
       "        [17, 18, 19, 20],\n",
       "        [21, 22, 23, 24]]])>"
      ]
     },
     "execution_count": 33,
     "metadata": {},
     "output_type": "execute_result"
    }
   ],
   "source": [
    "np_to_tf_1 = tf.constant(numpy_A , shape = (2,3,4))\n",
    "np_to_tf_1"
   ]
  },
  {
   "cell_type": "code",
   "execution_count": 34,
   "id": "c6bf24bc",
   "metadata": {},
   "outputs": [
    {
     "data": {
      "text/plain": [
       "24"
      ]
     },
     "execution_count": 34,
     "metadata": {},
     "output_type": "execute_result"
    }
   ],
   "source": [
    "2*3*4"
   ]
  },
  {
   "cell_type": "code",
   "execution_count": 35,
   "id": "8849300a",
   "metadata": {},
   "outputs": [
    {
     "data": {
      "text/plain": [
       "<tf.Tensor: shape=(4, 2, 3), dtype=int32, numpy=\n",
       "array([[[ 1,  2,  3],\n",
       "        [ 4,  5,  6]],\n",
       "\n",
       "       [[ 7,  8,  9],\n",
       "        [10, 11, 12]],\n",
       "\n",
       "       [[13, 14, 15],\n",
       "        [16, 17, 18]],\n",
       "\n",
       "       [[19, 20, 21],\n",
       "        [22, 23, 24]]])>"
      ]
     },
     "execution_count": 35,
     "metadata": {},
     "output_type": "execute_result"
    }
   ],
   "source": [
    "np_to_tf_2 = tf.constant(numpy_A , shape = ( 4,2,3))\n",
    "np_to_tf_2"
   ]
  },
  {
   "cell_type": "code",
   "execution_count": 36,
   "id": "876f095d",
   "metadata": {},
   "outputs": [
    {
     "data": {
      "text/plain": [
       "24"
      ]
     },
     "execution_count": 36,
     "metadata": {},
     "output_type": "execute_result"
    }
   ],
   "source": [
    "4*2*3"
   ]
  },
  {
   "cell_type": "code",
   "execution_count": 37,
   "id": "958e6b51",
   "metadata": {},
   "outputs": [
    {
     "ename": "TypeError",
     "evalue": "Eager execution of tf.constant with unsupported shape (value has 24 elements, shape is (4, 4, 2) with 32 elements).",
     "output_type": "error",
     "traceback": [
      "\u001b[1;31m---------------------------------------------------------------------------\u001b[0m",
      "\u001b[1;31mTypeError\u001b[0m                                 Traceback (most recent call last)",
      "\u001b[1;32m<ipython-input-37-0a46b71de68f>\u001b[0m in \u001b[0;36m<module>\u001b[1;34m\u001b[0m\n\u001b[1;32m----> 1\u001b[1;33m \u001b[0mnp_to_tf_3\u001b[0m \u001b[1;33m=\u001b[0m \u001b[0mtf\u001b[0m\u001b[1;33m.\u001b[0m\u001b[0mconstant\u001b[0m\u001b[1;33m(\u001b[0m\u001b[0mnumpy_A\u001b[0m \u001b[1;33m,\u001b[0m \u001b[0mshape\u001b[0m \u001b[1;33m=\u001b[0m \u001b[1;33m(\u001b[0m \u001b[1;36m4\u001b[0m\u001b[1;33m,\u001b[0m\u001b[1;36m4\u001b[0m\u001b[1;33m,\u001b[0m\u001b[1;36m2\u001b[0m\u001b[1;33m)\u001b[0m\u001b[1;33m)\u001b[0m\u001b[1;33m\u001b[0m\u001b[1;33m\u001b[0m\u001b[0m\n\u001b[0m\u001b[0;32m      2\u001b[0m \u001b[0mnp_to_tf_3\u001b[0m\u001b[1;33m\u001b[0m\u001b[1;33m\u001b[0m\u001b[0m\n",
      "\u001b[1;32mC:\\ProgramData\\Anaconda3\\lib\\site-packages\\tensorflow\\python\\framework\\constant_op.py\u001b[0m in \u001b[0;36mconstant\u001b[1;34m(value, dtype, shape, name)\u001b[0m\n\u001b[0;32m    269\u001b[0m     \u001b[0mValueError\u001b[0m\u001b[1;33m:\u001b[0m \u001b[1;32mif\u001b[0m \u001b[0mcalled\u001b[0m \u001b[0mon\u001b[0m \u001b[0ma\u001b[0m \u001b[0msymbolic\u001b[0m \u001b[0mtensor\u001b[0m\u001b[1;33m.\u001b[0m\u001b[1;33m\u001b[0m\u001b[1;33m\u001b[0m\u001b[0m\n\u001b[0;32m    270\u001b[0m   \"\"\"\n\u001b[1;32m--> 271\u001b[1;33m   return _constant_impl(value, dtype, shape, name, verify_shape=False,\n\u001b[0m\u001b[0;32m    272\u001b[0m                         allow_broadcast=True)\n\u001b[0;32m    273\u001b[0m \u001b[1;33m\u001b[0m\u001b[0m\n",
      "\u001b[1;32mC:\\ProgramData\\Anaconda3\\lib\\site-packages\\tensorflow\\python\\framework\\constant_op.py\u001b[0m in \u001b[0;36m_constant_impl\u001b[1;34m(value, dtype, shape, name, verify_shape, allow_broadcast)\u001b[0m\n\u001b[0;32m    281\u001b[0m       \u001b[1;32mwith\u001b[0m \u001b[0mtrace\u001b[0m\u001b[1;33m.\u001b[0m\u001b[0mTrace\u001b[0m\u001b[1;33m(\u001b[0m\u001b[1;34m\"tf.constant\"\u001b[0m\u001b[1;33m)\u001b[0m\u001b[1;33m:\u001b[0m\u001b[1;33m\u001b[0m\u001b[1;33m\u001b[0m\u001b[0m\n\u001b[0;32m    282\u001b[0m         \u001b[1;32mreturn\u001b[0m \u001b[0m_constant_eager_impl\u001b[0m\u001b[1;33m(\u001b[0m\u001b[0mctx\u001b[0m\u001b[1;33m,\u001b[0m \u001b[0mvalue\u001b[0m\u001b[1;33m,\u001b[0m \u001b[0mdtype\u001b[0m\u001b[1;33m,\u001b[0m \u001b[0mshape\u001b[0m\u001b[1;33m,\u001b[0m \u001b[0mverify_shape\u001b[0m\u001b[1;33m)\u001b[0m\u001b[1;33m\u001b[0m\u001b[1;33m\u001b[0m\u001b[0m\n\u001b[1;32m--> 283\u001b[1;33m     \u001b[1;32mreturn\u001b[0m \u001b[0m_constant_eager_impl\u001b[0m\u001b[1;33m(\u001b[0m\u001b[0mctx\u001b[0m\u001b[1;33m,\u001b[0m \u001b[0mvalue\u001b[0m\u001b[1;33m,\u001b[0m \u001b[0mdtype\u001b[0m\u001b[1;33m,\u001b[0m \u001b[0mshape\u001b[0m\u001b[1;33m,\u001b[0m \u001b[0mverify_shape\u001b[0m\u001b[1;33m)\u001b[0m\u001b[1;33m\u001b[0m\u001b[1;33m\u001b[0m\u001b[0m\n\u001b[0m\u001b[0;32m    284\u001b[0m \u001b[1;33m\u001b[0m\u001b[0m\n\u001b[0;32m    285\u001b[0m   \u001b[0mg\u001b[0m \u001b[1;33m=\u001b[0m \u001b[0mops\u001b[0m\u001b[1;33m.\u001b[0m\u001b[0mget_default_graph\u001b[0m\u001b[1;33m(\u001b[0m\u001b[1;33m)\u001b[0m\u001b[1;33m\u001b[0m\u001b[1;33m\u001b[0m\u001b[0m\n",
      "\u001b[1;32mC:\\ProgramData\\Anaconda3\\lib\\site-packages\\tensorflow\\python\\framework\\constant_op.py\u001b[0m in \u001b[0;36m_constant_eager_impl\u001b[1;34m(ctx, value, dtype, shape, verify_shape)\u001b[0m\n\u001b[0;32m    328\u001b[0m     \u001b[1;32melse\u001b[0m\u001b[1;33m:\u001b[0m\u001b[1;33m\u001b[0m\u001b[1;33m\u001b[0m\u001b[0m\n\u001b[0;32m    329\u001b[0m       \u001b[1;32mreturn\u001b[0m \u001b[0m_eager_fill\u001b[0m\u001b[1;33m(\u001b[0m\u001b[0mshape\u001b[0m\u001b[1;33m.\u001b[0m\u001b[0mas_list\u001b[0m\u001b[1;33m(\u001b[0m\u001b[1;33m)\u001b[0m\u001b[1;33m,\u001b[0m \u001b[0mt\u001b[0m\u001b[1;33m,\u001b[0m \u001b[0mctx\u001b[0m\u001b[1;33m)\u001b[0m\u001b[1;33m\u001b[0m\u001b[1;33m\u001b[0m\u001b[0m\n\u001b[1;32m--> 330\u001b[1;33m   raise TypeError(\"Eager execution of tf.constant with unsupported shape \"\n\u001b[0m\u001b[0;32m    331\u001b[0m                   \u001b[1;34m\"(value has %d elements, shape is %s with %d elements).\"\u001b[0m \u001b[1;33m%\u001b[0m\u001b[1;33m\u001b[0m\u001b[1;33m\u001b[0m\u001b[0m\n\u001b[0;32m    332\u001b[0m                   (num_t, shape, shape.num_elements()))\n",
      "\u001b[1;31mTypeError\u001b[0m: Eager execution of tf.constant with unsupported shape (value has 24 elements, shape is (4, 4, 2) with 32 elements)."
     ]
    }
   ],
   "source": [
    "np_to_tf_3 = tf.constant(numpy_A , shape = ( 4,4,2))\n",
    "np_to_tf_3"
   ]
  },
  {
   "cell_type": "code",
   "execution_count": 38,
   "id": "eb7e70ce",
   "metadata": {},
   "outputs": [
    {
     "data": {
      "text/plain": [
       "32"
      ]
     },
     "execution_count": 38,
     "metadata": {},
     "output_type": "execute_result"
    }
   ],
   "source": [
    "4*4*2"
   ]
  },
  {
   "cell_type": "code",
   "execution_count": 39,
   "id": "bdff5c39",
   "metadata": {},
   "outputs": [
    {
     "data": {
      "text/plain": [
       "2"
      ]
     },
     "execution_count": 39,
     "metadata": {},
     "output_type": "execute_result"
    }
   ],
   "source": [
    "len(np_to_tf_1) # 2 sub division of arrays"
   ]
  },
  {
   "cell_type": "code",
   "execution_count": 40,
   "id": "721096a4",
   "metadata": {},
   "outputs": [
    {
     "data": {
      "text/plain": [
       "4"
      ]
     },
     "execution_count": 40,
     "metadata": {},
     "output_type": "execute_result"
    }
   ],
   "source": [
    "len(np_to_tf_2) # 4 sub division of arrays"
   ]
  },
  {
   "cell_type": "code",
   "execution_count": 41,
   "id": "0e0ad341",
   "metadata": {},
   "outputs": [
    {
     "data": {
      "text/plain": [
       "False"
      ]
     },
     "execution_count": 41,
     "metadata": {},
     "output_type": "execute_result"
    }
   ],
   "source": [
    "len(np_to_tf_1) == len(np_to_tf_2)"
   ]
  },
  {
   "cell_type": "code",
   "execution_count": 42,
   "id": "22e1f171",
   "metadata": {},
   "outputs": [
    {
     "data": {
      "text/plain": [
       "<tf.Tensor: shape=(), dtype=bool, numpy=True>"
      ]
     },
     "execution_count": 42,
     "metadata": {},
     "output_type": "execute_result"
    }
   ],
   "source": [
    "tf.size(np_to_tf_1) == tf.size(np_to_tf_2)"
   ]
  },
  {
   "cell_type": "markdown",
   "id": "d415affb",
   "metadata": {},
   "source": [
    "### 🌈 Length provides the length of array  which is the total space allocatd during  initilization whereas size provides the total no. of elements present in the array\n"
   ]
  },
  {
   "cell_type": "markdown",
   "id": "45c64534",
   "metadata": {},
   "source": [
    "# 📌Session 5 : Tensors attributes"
   ]
  },
  {
   "cell_type": "code",
   "execution_count": 44,
   "id": "a78b5e97",
   "metadata": {},
   "outputs": [
    {
     "name": "stdout",
     "output_type": "stream",
     "text": [
      "tf.Tensor(\n",
      "[[[10.   7. ]\n",
      "  [11.2 15. ]\n",
      "  [20.  55. ]]\n",
      "\n",
      " [[88.  95. ]\n",
      "  [36.5 42. ]\n",
      "  [23.  69. ]]\n",
      "\n",
      " [[22.  43. ]\n",
      "  [70.  99. ]\n",
      "  [10.  90. ]]], shape=(3, 3, 2), dtype=float32)\n"
     ]
    }
   ],
   "source": [
    "tensor = tf.constant([[[10,7],\n",
    "                      [11.2,15],\n",
    "                      [20,55]],\n",
    "                     [[88,95],\n",
    "                     [36.5,42],\n",
    "                     [23,69]],\n",
    "                     [[22,43],\n",
    "                     [70,99],\n",
    "                     [10,90]]] )\n",
    "print(tensor) "
   ]
  },
  {
   "cell_type": "code",
   "execution_count": 45,
   "id": "039f916b",
   "metadata": {},
   "outputs": [
    {
     "name": "stdout",
     "output_type": "stream",
     "text": [
      "Shape : tf.Tensor([3 3 2], shape=(3,), dtype=int32)\n",
      "rank : tf.Tensor(3, shape=(), dtype=int32)\n",
      "Size : tf.Tensor(18, shape=(), dtype=int32)\n",
      "Dimension : 3\n",
      "Datatype: <dtype: 'float32'>\n"
     ]
    }
   ],
   "source": [
    "# shape\n",
    "print(\"Shape :\" ,tf.shape(tensor))\n",
    "\n",
    "# rank\n",
    "print(\"rank :\",tf.rank(tensor))\n",
    "\n",
    "# size\n",
    "print(\"Size :\",tf.size(tensor))\n",
    "\n",
    "#dimension\n",
    "print(\"Dimension :\",tensor.ndim)\n",
    "\n",
    "# datatype\n",
    "print(\"Datatype:\" , tensor.dtype)"
   ]
  },
  {
   "cell_type": "code",
   "execution_count": 46,
   "id": "bf3e902b",
   "metadata": {},
   "outputs": [
    {
     "name": "stdout",
     "output_type": "stream",
     "text": [
      "Shape : [3 3 2]\n",
      "rank : 3\n",
      "Size : 18\n",
      "Dimension : 3\n",
      "Datatype: <dtype: 'float32'>\n"
     ]
    }
   ],
   "source": [
    "# shape\n",
    "print(\"Shape :\" ,tf.shape(tensor).numpy())\n",
    "\n",
    "# rank\n",
    "print(\"rank :\",tf.rank(tensor).numpy())\n",
    "\n",
    "# size\n",
    "print(\"Size :\",tf.size(tensor).numpy())\n",
    "\n",
    "#dimension\n",
    "print(\"Dimension :\",tensor.ndim)\n",
    "\n",
    "# datatype\n",
    "print(\"Datatype:\" , tensor.dtype)"
   ]
  },
  {
   "cell_type": "markdown",
   "id": "d7646392",
   "metadata": {},
   "source": [
    "# 📌Session 6 : Indexing and expanding tensors"
   ]
  },
  {
   "cell_type": "code",
   "execution_count": 47,
   "id": "f37d4ad8",
   "metadata": {},
   "outputs": [
    {
     "data": {
      "text/plain": [
       "<tf.Tensor: shape=(3, 3, 2), dtype=float32, numpy=\n",
       "array([[[10. ,  7. ],\n",
       "        [11.2, 15. ],\n",
       "        [20. , 55. ]],\n",
       "\n",
       "       [[88. , 95. ],\n",
       "        [36.5, 42. ],\n",
       "        [23. , 69. ]],\n",
       "\n",
       "       [[22. , 43. ],\n",
       "        [70. , 99. ],\n",
       "        [10. , 90. ]]], dtype=float32)>"
      ]
     },
     "execution_count": 47,
     "metadata": {},
     "output_type": "execute_result"
    }
   ],
   "source": [
    "tensor"
   ]
  },
  {
   "cell_type": "code",
   "execution_count": 48,
   "id": "3522b338",
   "metadata": {},
   "outputs": [
    {
     "data": {
      "text/plain": [
       "<tf.Tensor: shape=(3, 3, 1), dtype=float32, numpy=\n",
       "array([[[10. ],\n",
       "        [11.2],\n",
       "        [20. ]],\n",
       "\n",
       "       [[88. ],\n",
       "        [36.5],\n",
       "        [23. ]],\n",
       "\n",
       "       [[22. ],\n",
       "        [70. ],\n",
       "        [10. ]]], dtype=float32)>"
      ]
     },
     "execution_count": 48,
     "metadata": {},
     "output_type": "execute_result"
    }
   ],
   "source": [
    "tensor[:,:3,:1]"
   ]
  },
  {
   "cell_type": "code",
   "execution_count": 49,
   "id": "9083bf8d",
   "metadata": {},
   "outputs": [
    {
     "data": {
      "text/plain": [
       "<tf.Tensor: shape=(2, 1, 2), dtype=float32, numpy=\n",
       "array([[[10.,  7.]],\n",
       "\n",
       "       [[88., 95.]]], dtype=float32)>"
      ]
     },
     "execution_count": 49,
     "metadata": {},
     "output_type": "execute_result"
    }
   ],
   "source": [
    "tensor[:2,:1,:2]"
   ]
  },
  {
   "cell_type": "code",
   "execution_count": 50,
   "id": "cc96114c",
   "metadata": {},
   "outputs": [
    {
     "data": {
      "text/plain": [
       "<tf.Tensor: shape=(1, 3, 2), dtype=float32, numpy=\n",
       "array([[[10. ,  7. ],\n",
       "        [11.2, 15. ],\n",
       "        [20. , 55. ]]], dtype=float32)>"
      ]
     },
     "execution_count": 50,
     "metadata": {},
     "output_type": "execute_result"
    }
   ],
   "source": [
    "tensor[:1,:3,:2]"
   ]
  },
  {
   "cell_type": "code",
   "execution_count": 51,
   "id": "b4b90c42",
   "metadata": {},
   "outputs": [
    {
     "data": {
      "text/plain": [
       "<tf.Tensor: shape=(3, 3, 2), dtype=float32, numpy=\n",
       "array([[[10. ,  7. ],\n",
       "        [11.2, 15. ],\n",
       "        [20. , 55. ]],\n",
       "\n",
       "       [[88. , 95. ],\n",
       "        [36.5, 42. ],\n",
       "        [23. , 69. ]],\n",
       "\n",
       "       [[22. , 43. ],\n",
       "        [70. , 99. ],\n",
       "        [10. , 90. ]]], dtype=float32)>"
      ]
     },
     "execution_count": 51,
     "metadata": {},
     "output_type": "execute_result"
    }
   ],
   "source": [
    "tensor[:,:,:]"
   ]
  },
  {
   "cell_type": "code",
   "execution_count": 52,
   "id": "d009594a",
   "metadata": {},
   "outputs": [
    {
     "data": {
      "text/plain": [
       "<tf.Tensor: shape=(2, 2), dtype=int32, numpy=\n",
       "array([[10,  7],\n",
       "       [11, 15]])>"
      ]
     },
     "execution_count": 52,
     "metadata": {},
     "output_type": "execute_result"
    }
   ],
   "source": [
    "matrix"
   ]
  },
  {
   "cell_type": "code",
   "execution_count": 53,
   "id": "204a7697",
   "metadata": {},
   "outputs": [
    {
     "data": {
      "text/plain": [
       "<tf.Tensor: shape=(2,), dtype=int32, numpy=array([ 7, 15])>"
      ]
     },
     "execution_count": 53,
     "metadata": {},
     "output_type": "execute_result"
    }
   ],
   "source": [
    "matrix[:,-1]"
   ]
  },
  {
   "cell_type": "code",
   "execution_count": 54,
   "id": "da92faad",
   "metadata": {},
   "outputs": [
    {
     "data": {
      "text/plain": [
       "TensorShape([2, 2])"
      ]
     },
     "execution_count": 54,
     "metadata": {},
     "output_type": "execute_result"
    }
   ],
   "source": [
    "matrix.shape"
   ]
  },
  {
   "cell_type": "code",
   "execution_count": 55,
   "id": "2a60abf9",
   "metadata": {},
   "outputs": [
    {
     "data": {
      "text/plain": [
       "<tf.Tensor: shape=(2, 2, 1), dtype=int32, numpy=\n",
       "array([[[10],\n",
       "        [ 7]],\n",
       "\n",
       "       [[11],\n",
       "        [15]]])>"
      ]
     },
     "execution_count": 55,
     "metadata": {},
     "output_type": "execute_result"
    }
   ],
   "source": [
    "add_cols_matrix = matrix[...,tf.newaxis]\n",
    "add_cols_matrix"
   ]
  },
  {
   "cell_type": "code",
   "execution_count": 56,
   "id": "c5823f95",
   "metadata": {},
   "outputs": [
    {
     "data": {
      "text/plain": [
       "TensorShape([2, 2, 1])"
      ]
     },
     "execution_count": 56,
     "metadata": {},
     "output_type": "execute_result"
    }
   ],
   "source": [
    "add_cols_matrix.shape"
   ]
  },
  {
   "cell_type": "code",
   "execution_count": 57,
   "id": "b167276f",
   "metadata": {},
   "outputs": [
    {
     "name": "stdout",
     "output_type": "stream",
     "text": [
      "tf.Tensor(\n",
      "[[[10  7]\n",
      "  [11 15]]], shape=(1, 2, 2), dtype=int32)\n"
     ]
    }
   ],
   "source": [
    "expand_dims_0 = tf.expand_dims(matrix ,axis = 0)\n",
    "print(expand_dims_0)"
   ]
  },
  {
   "cell_type": "code",
   "execution_count": 58,
   "id": "29ec959f",
   "metadata": {},
   "outputs": [
    {
     "name": "stdout",
     "output_type": "stream",
     "text": [
      "tf.Tensor(\n",
      "[[[10  7]]\n",
      "\n",
      " [[11 15]]], shape=(2, 1, 2), dtype=int32)\n"
     ]
    }
   ],
   "source": [
    "expand_dims_1 = tf.expand_dims(matrix,axis =1)\n",
    "print(expand_dims_1)"
   ]
  },
  {
   "cell_type": "code",
   "execution_count": 59,
   "id": "0fb61f31",
   "metadata": {},
   "outputs": [
    {
     "name": "stdout",
     "output_type": "stream",
     "text": [
      "tf.Tensor(\n",
      "[[[10]\n",
      "  [ 7]]\n",
      "\n",
      " [[11]\n",
      "  [15]]], shape=(2, 2, 1), dtype=int32)\n"
     ]
    }
   ],
   "source": [
    "expand_dims_2 = tf.expand_dims(matrix ,axis = 2)\n",
    "print(expand_dims_2)"
   ]
  },
  {
   "cell_type": "code",
   "execution_count": 60,
   "id": "0055c824",
   "metadata": {},
   "outputs": [
    {
     "ename": "InvalidArgumentError",
     "evalue": "Tried to expand dim index 3 for tensor with 2 dimensions. [Op:ExpandDims]",
     "output_type": "error",
     "traceback": [
      "\u001b[1;31m---------------------------------------------------------------------------\u001b[0m",
      "\u001b[1;31mInvalidArgumentError\u001b[0m                      Traceback (most recent call last)",
      "\u001b[1;32m<ipython-input-60-bdbd24ee4594>\u001b[0m in \u001b[0;36m<module>\u001b[1;34m\u001b[0m\n\u001b[1;32m----> 1\u001b[1;33m \u001b[0mexpand_dims_3\u001b[0m \u001b[1;33m=\u001b[0m \u001b[0mtf\u001b[0m\u001b[1;33m.\u001b[0m\u001b[0mexpand_dims\u001b[0m\u001b[1;33m(\u001b[0m\u001b[0mmatrix\u001b[0m \u001b[1;33m,\u001b[0m\u001b[0maxis\u001b[0m \u001b[1;33m=\u001b[0m \u001b[1;36m3\u001b[0m\u001b[1;33m)\u001b[0m\u001b[1;33m\u001b[0m\u001b[1;33m\u001b[0m\u001b[0m\n\u001b[0m\u001b[0;32m      2\u001b[0m \u001b[0mprint\u001b[0m\u001b[1;33m(\u001b[0m\u001b[0mexpand_dims_3\u001b[0m\u001b[1;33m)\u001b[0m\u001b[1;33m\u001b[0m\u001b[1;33m\u001b[0m\u001b[0m\n",
      "\u001b[1;32mC:\\ProgramData\\Anaconda3\\lib\\site-packages\\tensorflow\\python\\util\\dispatch.py\u001b[0m in \u001b[0;36mwrapper\u001b[1;34m(*args, **kwargs)\u001b[0m\n\u001b[0;32m    204\u001b[0m     \u001b[1;34m\"\"\"Call target, and fall back on dispatchers if there is a TypeError.\"\"\"\u001b[0m\u001b[1;33m\u001b[0m\u001b[1;33m\u001b[0m\u001b[0m\n\u001b[0;32m    205\u001b[0m     \u001b[1;32mtry\u001b[0m\u001b[1;33m:\u001b[0m\u001b[1;33m\u001b[0m\u001b[1;33m\u001b[0m\u001b[0m\n\u001b[1;32m--> 206\u001b[1;33m       \u001b[1;32mreturn\u001b[0m \u001b[0mtarget\u001b[0m\u001b[1;33m(\u001b[0m\u001b[1;33m*\u001b[0m\u001b[0margs\u001b[0m\u001b[1;33m,\u001b[0m \u001b[1;33m**\u001b[0m\u001b[0mkwargs\u001b[0m\u001b[1;33m)\u001b[0m\u001b[1;33m\u001b[0m\u001b[1;33m\u001b[0m\u001b[0m\n\u001b[0m\u001b[0;32m    207\u001b[0m     \u001b[1;32mexcept\u001b[0m \u001b[1;33m(\u001b[0m\u001b[0mTypeError\u001b[0m\u001b[1;33m,\u001b[0m \u001b[0mValueError\u001b[0m\u001b[1;33m)\u001b[0m\u001b[1;33m:\u001b[0m\u001b[1;33m\u001b[0m\u001b[1;33m\u001b[0m\u001b[0m\n\u001b[0;32m    208\u001b[0m       \u001b[1;31m# Note: convert_to_eager_tensor currently raises a ValueError, not a\u001b[0m\u001b[1;33m\u001b[0m\u001b[1;33m\u001b[0m\u001b[1;33m\u001b[0m\u001b[0m\n",
      "\u001b[1;32mC:\\ProgramData\\Anaconda3\\lib\\site-packages\\tensorflow\\python\\ops\\array_ops.py\u001b[0m in \u001b[0;36mexpand_dims_v2\u001b[1;34m(input, axis, name)\u001b[0m\n\u001b[0;32m    435\u001b[0m     \u001b[0mInvalidArgumentError\u001b[0m\u001b[1;33m:\u001b[0m \u001b[0mIf\u001b[0m\u001b[0;31m \u001b[0m\u001b[0;31m`\u001b[0m\u001b[0maxis\u001b[0m\u001b[0;31m`\u001b[0m \u001b[1;32mis\u001b[0m \u001b[0mout\u001b[0m \u001b[0mof\u001b[0m \u001b[0mrange\u001b[0m\u001b[0;31m \u001b[0m\u001b[0;31m`\u001b[0m\u001b[1;33m[\u001b[0m\u001b[1;33m-\u001b[0m\u001b[1;33m(\u001b[0m\u001b[0mD\u001b[0m\u001b[1;33m+\u001b[0m\u001b[1;36m1\u001b[0m\u001b[1;33m)\u001b[0m\u001b[1;33m,\u001b[0m \u001b[0mD\u001b[0m\u001b[1;33m]\u001b[0m\u001b[0;31m`\u001b[0m\u001b[1;33m.\u001b[0m\u001b[1;33m\u001b[0m\u001b[1;33m\u001b[0m\u001b[0m\n\u001b[0;32m    436\u001b[0m   \"\"\"\n\u001b[1;32m--> 437\u001b[1;33m   \u001b[1;32mreturn\u001b[0m \u001b[0mgen_array_ops\u001b[0m\u001b[1;33m.\u001b[0m\u001b[0mexpand_dims\u001b[0m\u001b[1;33m(\u001b[0m\u001b[0minput\u001b[0m\u001b[1;33m,\u001b[0m \u001b[0maxis\u001b[0m\u001b[1;33m,\u001b[0m \u001b[0mname\u001b[0m\u001b[1;33m)\u001b[0m\u001b[1;33m\u001b[0m\u001b[1;33m\u001b[0m\u001b[0m\n\u001b[0m\u001b[0;32m    438\u001b[0m \u001b[1;33m\u001b[0m\u001b[0m\n\u001b[0;32m    439\u001b[0m \u001b[1;33m\u001b[0m\u001b[0m\n",
      "\u001b[1;32mC:\\ProgramData\\Anaconda3\\lib\\site-packages\\tensorflow\\python\\ops\\gen_array_ops.py\u001b[0m in \u001b[0;36mexpand_dims\u001b[1;34m(input, axis, name)\u001b[0m\n\u001b[0;32m   2286\u001b[0m       \u001b[1;32mreturn\u001b[0m \u001b[0m_result\u001b[0m\u001b[1;33m\u001b[0m\u001b[1;33m\u001b[0m\u001b[0m\n\u001b[0;32m   2287\u001b[0m     \u001b[1;32mexcept\u001b[0m \u001b[0m_core\u001b[0m\u001b[1;33m.\u001b[0m\u001b[0m_NotOkStatusException\u001b[0m \u001b[1;32mas\u001b[0m \u001b[0me\u001b[0m\u001b[1;33m:\u001b[0m\u001b[1;33m\u001b[0m\u001b[1;33m\u001b[0m\u001b[0m\n\u001b[1;32m-> 2288\u001b[1;33m       \u001b[0m_ops\u001b[0m\u001b[1;33m.\u001b[0m\u001b[0mraise_from_not_ok_status\u001b[0m\u001b[1;33m(\u001b[0m\u001b[0me\u001b[0m\u001b[1;33m,\u001b[0m \u001b[0mname\u001b[0m\u001b[1;33m)\u001b[0m\u001b[1;33m\u001b[0m\u001b[1;33m\u001b[0m\u001b[0m\n\u001b[0m\u001b[0;32m   2289\u001b[0m     \u001b[1;32mexcept\u001b[0m \u001b[0m_core\u001b[0m\u001b[1;33m.\u001b[0m\u001b[0m_FallbackException\u001b[0m\u001b[1;33m:\u001b[0m\u001b[1;33m\u001b[0m\u001b[1;33m\u001b[0m\u001b[0m\n\u001b[0;32m   2290\u001b[0m       \u001b[1;32mpass\u001b[0m\u001b[1;33m\u001b[0m\u001b[1;33m\u001b[0m\u001b[0m\n",
      "\u001b[1;32mC:\\ProgramData\\Anaconda3\\lib\\site-packages\\tensorflow\\python\\framework\\ops.py\u001b[0m in \u001b[0;36mraise_from_not_ok_status\u001b[1;34m(e, name)\u001b[0m\n\u001b[0;32m   6939\u001b[0m   \u001b[0mmessage\u001b[0m \u001b[1;33m=\u001b[0m \u001b[0me\u001b[0m\u001b[1;33m.\u001b[0m\u001b[0mmessage\u001b[0m \u001b[1;33m+\u001b[0m \u001b[1;33m(\u001b[0m\u001b[1;34m\" name: \"\u001b[0m \u001b[1;33m+\u001b[0m \u001b[0mname\u001b[0m \u001b[1;32mif\u001b[0m \u001b[0mname\u001b[0m \u001b[1;32mis\u001b[0m \u001b[1;32mnot\u001b[0m \u001b[1;32mNone\u001b[0m \u001b[1;32melse\u001b[0m \u001b[1;34m\"\"\u001b[0m\u001b[1;33m)\u001b[0m\u001b[1;33m\u001b[0m\u001b[1;33m\u001b[0m\u001b[0m\n\u001b[0;32m   6940\u001b[0m   \u001b[1;31m# pylint: disable=protected-access\u001b[0m\u001b[1;33m\u001b[0m\u001b[1;33m\u001b[0m\u001b[1;33m\u001b[0m\u001b[0m\n\u001b[1;32m-> 6941\u001b[1;33m   \u001b[0msix\u001b[0m\u001b[1;33m.\u001b[0m\u001b[0mraise_from\u001b[0m\u001b[1;33m(\u001b[0m\u001b[0mcore\u001b[0m\u001b[1;33m.\u001b[0m\u001b[0m_status_to_exception\u001b[0m\u001b[1;33m(\u001b[0m\u001b[0me\u001b[0m\u001b[1;33m.\u001b[0m\u001b[0mcode\u001b[0m\u001b[1;33m,\u001b[0m \u001b[0mmessage\u001b[0m\u001b[1;33m)\u001b[0m\u001b[1;33m,\u001b[0m \u001b[1;32mNone\u001b[0m\u001b[1;33m)\u001b[0m\u001b[1;33m\u001b[0m\u001b[1;33m\u001b[0m\u001b[0m\n\u001b[0m\u001b[0;32m   6942\u001b[0m   \u001b[1;31m# pylint: enable=protected-access\u001b[0m\u001b[1;33m\u001b[0m\u001b[1;33m\u001b[0m\u001b[1;33m\u001b[0m\u001b[0m\n\u001b[0;32m   6943\u001b[0m \u001b[1;33m\u001b[0m\u001b[0m\n",
      "\u001b[1;32m~\\AppData\\Roaming\\Python\\Python38\\site-packages\\six.py\u001b[0m in \u001b[0;36mraise_from\u001b[1;34m(value, from_value)\u001b[0m\n",
      "\u001b[1;31mInvalidArgumentError\u001b[0m: Tried to expand dim index 3 for tensor with 2 dimensions. [Op:ExpandDims]"
     ]
    }
   ],
   "source": [
    "expand_dims_3 = tf.expand_dims(matrix ,axis = 3)\n",
    "print(expand_dims_3)"
   ]
  },
  {
   "cell_type": "markdown",
   "id": "ab98abef",
   "metadata": {},
   "source": [
    "# 📌Session 7 :Tensors Manipulation "
   ]
  },
  {
   "cell_type": "markdown",
   "id": "e2703641",
   "metadata": {},
   "source": [
    "### 📚Resources : tf.math : https://www.tensorflow.org/api_docs/python/tf/math"
   ]
  },
  {
   "cell_type": "code",
   "execution_count": 63,
   "id": "0accdece",
   "metadata": {},
   "outputs": [
    {
     "data": {
      "text/plain": [
       "<tf.Tensor: shape=(2, 2), dtype=int32, numpy=\n",
       "array([[10,  7],\n",
       "       [11, 15]])>"
      ]
     },
     "execution_count": 63,
     "metadata": {},
     "output_type": "execute_result"
    }
   ],
   "source": [
    "matrix"
   ]
  },
  {
   "cell_type": "code",
   "execution_count": 64,
   "id": "873bcc63",
   "metadata": {},
   "outputs": [
    {
     "data": {
      "text/plain": [
       "<tf.Tensor: shape=(2, 2), dtype=int32, numpy=\n",
       "array([[20, 17],\n",
       "       [21, 25]])>"
      ]
     },
     "execution_count": 64,
     "metadata": {},
     "output_type": "execute_result"
    }
   ],
   "source": [
    "matrix + 10"
   ]
  },
  {
   "cell_type": "code",
   "execution_count": 65,
   "id": "9b489ace",
   "metadata": {},
   "outputs": [
    {
     "data": {
      "text/plain": [
       "<tf.Tensor: shape=(2, 2), dtype=int32, numpy=\n",
       "array([[-5, -8],\n",
       "       [-4,  0]])>"
      ]
     },
     "execution_count": 65,
     "metadata": {},
     "output_type": "execute_result"
    }
   ],
   "source": [
    "matrix - 15"
   ]
  },
  {
   "cell_type": "code",
   "execution_count": 66,
   "id": "6b5833ee",
   "metadata": {},
   "outputs": [
    {
     "data": {
      "text/plain": [
       "<tf.Tensor: shape=(2, 2), dtype=int32, numpy=\n",
       "array([[100,  70],\n",
       "       [110, 150]])>"
      ]
     },
     "execution_count": 66,
     "metadata": {},
     "output_type": "execute_result"
    }
   ],
   "source": [
    "matrix * 10"
   ]
  },
  {
   "cell_type": "code",
   "execution_count": 67,
   "id": "f48687fa",
   "metadata": {},
   "outputs": [
    {
     "data": {
      "text/plain": [
       "<tf.Tensor: shape=(2, 2), dtype=float64, numpy=\n",
       "array([[1. , 0.7],\n",
       "       [1.1, 1.5]])>"
      ]
     },
     "execution_count": 67,
     "metadata": {},
     "output_type": "execute_result"
    }
   ],
   "source": [
    "matrix / 10  # return quotient"
   ]
  },
  {
   "cell_type": "code",
   "execution_count": 68,
   "id": "c3edd6f0",
   "metadata": {},
   "outputs": [
    {
     "data": {
      "text/plain": [
       "<tf.Tensor: shape=(2, 2), dtype=int32, numpy=\n",
       "array([[0, 7],\n",
       "       [1, 5]])>"
      ]
     },
     "execution_count": 68,
     "metadata": {},
     "output_type": "execute_result"
    }
   ],
   "source": [
    "matrix % 10 # reurn remainder "
   ]
  },
  {
   "cell_type": "code",
   "execution_count": 69,
   "id": "b4b380da",
   "metadata": {},
   "outputs": [
    {
     "data": {
      "text/plain": [
       "<tf.Tensor: shape=(2, 2), dtype=int32, numpy=\n",
       "array([[100,  49],\n",
       "       [121, 225]])>"
      ]
     },
     "execution_count": 69,
     "metadata": {},
     "output_type": "execute_result"
    }
   ],
   "source": [
    "matrix ** 2       # power"
   ]
  },
  {
   "cell_type": "code",
   "execution_count": 70,
   "id": "7d146338",
   "metadata": {},
   "outputs": [
    {
     "ename": "InvalidArgumentError",
     "evalue": "Value for attr 'T' of int32 is not in the list of allowed values: bfloat16, half, float, double, complex64, complex128\n\t; NodeDef: {{node Sqrt}}; Op<name=Sqrt; signature=x:T -> y:T; attr=T:type,allowed=[DT_BFLOAT16, DT_HALF, DT_FLOAT, DT_DOUBLE, DT_COMPLEX64, DT_COMPLEX128]> [Op:Sqrt]",
     "output_type": "error",
     "traceback": [
      "\u001b[1;31m---------------------------------------------------------------------------\u001b[0m",
      "\u001b[1;31mInvalidArgumentError\u001b[0m                      Traceback (most recent call last)",
      "\u001b[1;32m<ipython-input-70-bc21eb978a91>\u001b[0m in \u001b[0;36m<module>\u001b[1;34m\u001b[0m\n\u001b[1;32m----> 1\u001b[1;33m \u001b[0mtf\u001b[0m\u001b[1;33m.\u001b[0m\u001b[0mmath\u001b[0m\u001b[1;33m.\u001b[0m\u001b[0msqrt\u001b[0m\u001b[1;33m(\u001b[0m\u001b[0mmatrix\u001b[0m\u001b[1;33m)\u001b[0m\u001b[1;33m\u001b[0m\u001b[1;33m\u001b[0m\u001b[0m\n\u001b[0m",
      "\u001b[1;32mC:\\ProgramData\\Anaconda3\\lib\\site-packages\\tensorflow\\python\\util\\dispatch.py\u001b[0m in \u001b[0;36mwrapper\u001b[1;34m(*args, **kwargs)\u001b[0m\n\u001b[0;32m    204\u001b[0m     \u001b[1;34m\"\"\"Call target, and fall back on dispatchers if there is a TypeError.\"\"\"\u001b[0m\u001b[1;33m\u001b[0m\u001b[1;33m\u001b[0m\u001b[0m\n\u001b[0;32m    205\u001b[0m     \u001b[1;32mtry\u001b[0m\u001b[1;33m:\u001b[0m\u001b[1;33m\u001b[0m\u001b[1;33m\u001b[0m\u001b[0m\n\u001b[1;32m--> 206\u001b[1;33m       \u001b[1;32mreturn\u001b[0m \u001b[0mtarget\u001b[0m\u001b[1;33m(\u001b[0m\u001b[1;33m*\u001b[0m\u001b[0margs\u001b[0m\u001b[1;33m,\u001b[0m \u001b[1;33m**\u001b[0m\u001b[0mkwargs\u001b[0m\u001b[1;33m)\u001b[0m\u001b[1;33m\u001b[0m\u001b[1;33m\u001b[0m\u001b[0m\n\u001b[0m\u001b[0;32m    207\u001b[0m     \u001b[1;32mexcept\u001b[0m \u001b[1;33m(\u001b[0m\u001b[0mTypeError\u001b[0m\u001b[1;33m,\u001b[0m \u001b[0mValueError\u001b[0m\u001b[1;33m)\u001b[0m\u001b[1;33m:\u001b[0m\u001b[1;33m\u001b[0m\u001b[1;33m\u001b[0m\u001b[0m\n\u001b[0;32m    208\u001b[0m       \u001b[1;31m# Note: convert_to_eager_tensor currently raises a ValueError, not a\u001b[0m\u001b[1;33m\u001b[0m\u001b[1;33m\u001b[0m\u001b[1;33m\u001b[0m\u001b[0m\n",
      "\u001b[1;32mC:\\ProgramData\\Anaconda3\\lib\\site-packages\\tensorflow\\python\\ops\\math_ops.py\u001b[0m in \u001b[0;36msqrt\u001b[1;34m(x, name)\u001b[0m\n\u001b[0;32m   5324\u001b[0m     \u001b[0mA\u001b[0m\u001b[0;31m \u001b[0m\u001b[0;31m`\u001b[0m\u001b[0mtf\u001b[0m\u001b[1;33m.\u001b[0m\u001b[0mTensor\u001b[0m\u001b[0;31m`\u001b[0m \u001b[0mof\u001b[0m \u001b[0msame\u001b[0m \u001b[0msize\u001b[0m\u001b[1;33m,\u001b[0m \u001b[0mtype\u001b[0m \u001b[1;32mand\u001b[0m \u001b[0msparsity\u001b[0m \u001b[1;32mas\u001b[0m\u001b[0;31m \u001b[0m\u001b[0;31m`\u001b[0m\u001b[0mx\u001b[0m\u001b[0;31m`\u001b[0m\u001b[1;33m.\u001b[0m\u001b[1;33m\u001b[0m\u001b[1;33m\u001b[0m\u001b[0m\n\u001b[0;32m   5325\u001b[0m   \"\"\"\n\u001b[1;32m-> 5326\u001b[1;33m   \u001b[1;32mreturn\u001b[0m \u001b[0mgen_math_ops\u001b[0m\u001b[1;33m.\u001b[0m\u001b[0msqrt\u001b[0m\u001b[1;33m(\u001b[0m\u001b[0mx\u001b[0m\u001b[1;33m,\u001b[0m \u001b[0mname\u001b[0m\u001b[1;33m)\u001b[0m\u001b[1;33m\u001b[0m\u001b[1;33m\u001b[0m\u001b[0m\n\u001b[0m\u001b[0;32m   5327\u001b[0m \u001b[1;33m\u001b[0m\u001b[0m\n\u001b[0;32m   5328\u001b[0m \u001b[1;33m\u001b[0m\u001b[0m\n",
      "\u001b[1;32mC:\\ProgramData\\Anaconda3\\lib\\site-packages\\tensorflow\\python\\ops\\gen_math_ops.py\u001b[0m in \u001b[0;36msqrt\u001b[1;34m(x, name)\u001b[0m\n\u001b[0;32m  10298\u001b[0m       \u001b[1;32mreturn\u001b[0m \u001b[0m_result\u001b[0m\u001b[1;33m\u001b[0m\u001b[1;33m\u001b[0m\u001b[0m\n\u001b[0;32m  10299\u001b[0m     \u001b[1;32mexcept\u001b[0m \u001b[0m_core\u001b[0m\u001b[1;33m.\u001b[0m\u001b[0m_NotOkStatusException\u001b[0m \u001b[1;32mas\u001b[0m \u001b[0me\u001b[0m\u001b[1;33m:\u001b[0m\u001b[1;33m\u001b[0m\u001b[1;33m\u001b[0m\u001b[0m\n\u001b[1;32m> 10300\u001b[1;33m       \u001b[0m_ops\u001b[0m\u001b[1;33m.\u001b[0m\u001b[0mraise_from_not_ok_status\u001b[0m\u001b[1;33m(\u001b[0m\u001b[0me\u001b[0m\u001b[1;33m,\u001b[0m \u001b[0mname\u001b[0m\u001b[1;33m)\u001b[0m\u001b[1;33m\u001b[0m\u001b[1;33m\u001b[0m\u001b[0m\n\u001b[0m\u001b[0;32m  10301\u001b[0m     \u001b[1;32mexcept\u001b[0m \u001b[0m_core\u001b[0m\u001b[1;33m.\u001b[0m\u001b[0m_FallbackException\u001b[0m\u001b[1;33m:\u001b[0m\u001b[1;33m\u001b[0m\u001b[1;33m\u001b[0m\u001b[0m\n\u001b[0;32m  10302\u001b[0m       \u001b[1;32mpass\u001b[0m\u001b[1;33m\u001b[0m\u001b[1;33m\u001b[0m\u001b[0m\n",
      "\u001b[1;32mC:\\ProgramData\\Anaconda3\\lib\\site-packages\\tensorflow\\python\\framework\\ops.py\u001b[0m in \u001b[0;36mraise_from_not_ok_status\u001b[1;34m(e, name)\u001b[0m\n\u001b[0;32m   6939\u001b[0m   \u001b[0mmessage\u001b[0m \u001b[1;33m=\u001b[0m \u001b[0me\u001b[0m\u001b[1;33m.\u001b[0m\u001b[0mmessage\u001b[0m \u001b[1;33m+\u001b[0m \u001b[1;33m(\u001b[0m\u001b[1;34m\" name: \"\u001b[0m \u001b[1;33m+\u001b[0m \u001b[0mname\u001b[0m \u001b[1;32mif\u001b[0m \u001b[0mname\u001b[0m \u001b[1;32mis\u001b[0m \u001b[1;32mnot\u001b[0m \u001b[1;32mNone\u001b[0m \u001b[1;32melse\u001b[0m \u001b[1;34m\"\"\u001b[0m\u001b[1;33m)\u001b[0m\u001b[1;33m\u001b[0m\u001b[1;33m\u001b[0m\u001b[0m\n\u001b[0;32m   6940\u001b[0m   \u001b[1;31m# pylint: disable=protected-access\u001b[0m\u001b[1;33m\u001b[0m\u001b[1;33m\u001b[0m\u001b[1;33m\u001b[0m\u001b[0m\n\u001b[1;32m-> 6941\u001b[1;33m   \u001b[0msix\u001b[0m\u001b[1;33m.\u001b[0m\u001b[0mraise_from\u001b[0m\u001b[1;33m(\u001b[0m\u001b[0mcore\u001b[0m\u001b[1;33m.\u001b[0m\u001b[0m_status_to_exception\u001b[0m\u001b[1;33m(\u001b[0m\u001b[0me\u001b[0m\u001b[1;33m.\u001b[0m\u001b[0mcode\u001b[0m\u001b[1;33m,\u001b[0m \u001b[0mmessage\u001b[0m\u001b[1;33m)\u001b[0m\u001b[1;33m,\u001b[0m \u001b[1;32mNone\u001b[0m\u001b[1;33m)\u001b[0m\u001b[1;33m\u001b[0m\u001b[1;33m\u001b[0m\u001b[0m\n\u001b[0m\u001b[0;32m   6942\u001b[0m   \u001b[1;31m# pylint: enable=protected-access\u001b[0m\u001b[1;33m\u001b[0m\u001b[1;33m\u001b[0m\u001b[1;33m\u001b[0m\u001b[0m\n\u001b[0;32m   6943\u001b[0m \u001b[1;33m\u001b[0m\u001b[0m\n",
      "\u001b[1;32m~\\AppData\\Roaming\\Python\\Python38\\site-packages\\six.py\u001b[0m in \u001b[0;36mraise_from\u001b[1;34m(value, from_value)\u001b[0m\n",
      "\u001b[1;31mInvalidArgumentError\u001b[0m: Value for attr 'T' of int32 is not in the list of allowed values: bfloat16, half, float, double, complex64, complex128\n\t; NodeDef: {{node Sqrt}}; Op<name=Sqrt; signature=x:T -> y:T; attr=T:type,allowed=[DT_BFLOAT16, DT_HALF, DT_FLOAT, DT_DOUBLE, DT_COMPLEX64, DT_COMPLEX128]> [Op:Sqrt]"
     ]
    }
   ],
   "source": [
    "tf.math.sqrt(matrix) "
   ]
  },
  {
   "cell_type": "code",
   "execution_count": 71,
   "id": "96b18308",
   "metadata": {},
   "outputs": [],
   "source": [
    "matrix_1  = tf.cast(matrix ,dtype = tf.float32)"
   ]
  },
  {
   "cell_type": "code",
   "execution_count": 72,
   "id": "7fc38578",
   "metadata": {},
   "outputs": [
    {
     "data": {
      "text/plain": [
       "<tf.Tensor: shape=(2, 2), dtype=float32, numpy=\n",
       "array([[3.1622777, 2.6457512],\n",
       "       [3.3166249, 3.8729832]], dtype=float32)>"
      ]
     },
     "execution_count": 72,
     "metadata": {},
     "output_type": "execute_result"
    }
   ],
   "source": [
    "tf.math.sqrt(matrix_1) # datatype should not be an int"
   ]
  },
  {
   "cell_type": "code",
   "execution_count": 73,
   "id": "63e4fd01",
   "metadata": {},
   "outputs": [
    {
     "data": {
      "text/plain": [
       "<tf.Tensor: shape=(2, 2), dtype=float64, numpy=\n",
       "array([[1.        , 0.83666003],\n",
       "       [1.04880885, 1.22474487]])>"
      ]
     },
     "execution_count": 73,
     "metadata": {},
     "output_type": "execute_result"
    }
   ],
   "source": [
    "tf.math.sqrt((matrix/10))    "
   ]
  },
  {
   "cell_type": "markdown",
   "id": "602c295e",
   "metadata": {},
   "source": [
    "# 📌Session 8 : Matrix Multplication with tensors "
   ]
  },
  {
   "cell_type": "markdown",
   "id": "db6e03fc",
   "metadata": {},
   "source": [
    "### 📚Resources : Matrix Multiplication : https://www.mathsisfun.com/algebra/matrix-multiplying.html"
   ]
  },
  {
   "cell_type": "markdown",
   "id": "55531770",
   "metadata": {},
   "source": [
    "#### Play with Matrix Multiplcation : http://matrixmultiplication.xyz/"
   ]
  },
  {
   "cell_type": "code",
   "execution_count": 76,
   "id": "ab222d6c",
   "metadata": {},
   "outputs": [
    {
     "name": "stdout",
     "output_type": "stream",
     "text": [
      "tf.Tensor(\n",
      "[[10  7 30]\n",
      " [21 36  9]\n",
      " [88 74 95]], shape=(3, 3), dtype=int32)\n",
      "shape: [3 3]\n",
      "Dimension : 2\n"
     ]
    },
    {
     "data": {
      "text/plain": [
       "(None, None, None)"
      ]
     },
     "execution_count": 76,
     "metadata": {},
     "output_type": "execute_result"
    }
   ],
   "source": [
    "mat_mul_tensor_1 = tf.constant([[10,7,30],\n",
    "                               [21,36,9],\n",
    "                               [88,74,95]])\n",
    "print(mat_mul_tensor_1) , print(\"shape:\",tf.shape(mat_mul_tensor_1).numpy()) , print(\"Dimension :\" ,mat_mul_tensor_1.ndim)"
   ]
  },
  {
   "cell_type": "code",
   "execution_count": 77,
   "id": "0c57179a",
   "metadata": {},
   "outputs": [
    {
     "name": "stdout",
     "output_type": "stream",
     "text": [
      "tf.Tensor(\n",
      "[[ 8 19 20]\n",
      " [23  6 98]\n",
      " [11 20 39]], shape=(3, 3), dtype=int32)\n",
      "shape [3 3]\n",
      "Dimension :  2\n"
     ]
    },
    {
     "data": {
      "text/plain": [
       "(None, None, None)"
      ]
     },
     "execution_count": 77,
     "metadata": {},
     "output_type": "execute_result"
    }
   ],
   "source": [
    "mat_mul_tensor_2 = tf.constant([[8,19,20],\n",
    "                               [23,6,98],\n",
    "                               [11,20,39]])\n",
    "print(mat_mul_tensor_2) ,print(\"shape\" ,tf.shape(mat_mul_tensor_2).numpy()) , print(\"Dimension : \" , mat_mul_tensor_2.ndim)"
   ]
  },
  {
   "cell_type": "code",
   "execution_count": 78,
   "id": "e2435fc5",
   "metadata": {},
   "outputs": [
    {
     "data": {
      "text/plain": [
       "<tf.Tensor: shape=(3, 3), dtype=int32, numpy=\n",
       "array([[  571,   832,  2056],\n",
       "       [ 1095,   795,  4299],\n",
       "       [ 3451,  4016, 12717]])>"
      ]
     },
     "execution_count": 78,
     "metadata": {},
     "output_type": "execute_result"
    }
   ],
   "source": [
    "tf.matmul(a = mat_mul_tensor_1 , b = mat_mul_tensor_2) # same  result obtained as tf.tensordot"
   ]
  },
  {
   "cell_type": "markdown",
   "id": "bba7dc83",
   "metadata": {},
   "source": [
    "### 📚Resources : tensordot : https://docs.w3cub.com/tensorflow~1.15/tensordot"
   ]
  },
  {
   "cell_type": "code",
   "execution_count": 80,
   "id": "94886dd1",
   "metadata": {},
   "outputs": [
    {
     "data": {
      "text/plain": [
       "<tf.Tensor: shape=(3, 3, 3, 3), dtype=int32, numpy=\n",
       "array([[[[  80,  190,  200],\n",
       "         [ 230,   60,  980],\n",
       "         [ 110,  200,  390]],\n",
       "\n",
       "        [[  56,  133,  140],\n",
       "         [ 161,   42,  686],\n",
       "         [  77,  140,  273]],\n",
       "\n",
       "        [[ 240,  570,  600],\n",
       "         [ 690,  180, 2940],\n",
       "         [ 330,  600, 1170]]],\n",
       "\n",
       "\n",
       "       [[[ 168,  399,  420],\n",
       "         [ 483,  126, 2058],\n",
       "         [ 231,  420,  819]],\n",
       "\n",
       "        [[ 288,  684,  720],\n",
       "         [ 828,  216, 3528],\n",
       "         [ 396,  720, 1404]],\n",
       "\n",
       "        [[  72,  171,  180],\n",
       "         [ 207,   54,  882],\n",
       "         [  99,  180,  351]]],\n",
       "\n",
       "\n",
       "       [[[ 704, 1672, 1760],\n",
       "         [2024,  528, 8624],\n",
       "         [ 968, 1760, 3432]],\n",
       "\n",
       "        [[ 592, 1406, 1480],\n",
       "         [1702,  444, 7252],\n",
       "         [ 814, 1480, 2886]],\n",
       "\n",
       "        [[ 760, 1805, 1900],\n",
       "         [2185,  570, 9310],\n",
       "         [1045, 1900, 3705]]]])>"
      ]
     },
     "execution_count": 80,
     "metadata": {},
     "output_type": "execute_result"
    }
   ],
   "source": [
    "tf.tensordot(a = mat_mul_tensor_1 , b =mat_mul_tensor_2 , axes = 0)"
   ]
  },
  {
   "cell_type": "code",
   "execution_count": 81,
   "id": "d415e842",
   "metadata": {},
   "outputs": [
    {
     "data": {
      "text/plain": [
       "<tf.Tensor: shape=(3, 3), dtype=int32, numpy=\n",
       "array([[  571,   832,  2056],\n",
       "       [ 1095,   795,  4299],\n",
       "       [ 3451,  4016, 12717]])>"
      ]
     },
     "execution_count": 81,
     "metadata": {},
     "output_type": "execute_result"
    }
   ],
   "source": [
    "tf.tensordot(a = mat_mul_tensor_1 , b =mat_mul_tensor_2 , axes = 1) # same  result obtained as tf.matmul"
   ]
  },
  {
   "cell_type": "code",
   "execution_count": 82,
   "id": "3595c22c",
   "metadata": {},
   "outputs": [
    {
     "data": {
      "text/plain": [
       "<tf.Tensor: shape=(), dtype=int32, numpy=8547>"
      ]
     },
     "execution_count": 82,
     "metadata": {},
     "output_type": "execute_result"
    }
   ],
   "source": [
    "tf.tensordot(a = mat_mul_tensor_1 , b =mat_mul_tensor_2 , axes = 2)"
   ]
  },
  {
   "cell_type": "markdown",
   "id": "9d99f127",
   "metadata": {},
   "source": [
    "### Here axes = 2 is correct values . since dot product never gives a matrix as a output. It always provide a single value"
   ]
  },
  {
   "cell_type": "code",
   "execution_count": 84,
   "id": "76b085fb",
   "metadata": {},
   "outputs": [
    {
     "ename": "ValueError",
     "evalue": "'axes' must not be larger than the number of dimensions of tensor tf.Tensor(\n[[10  7 30]\n [21 36  9]\n [88 74 95]], shape=(3, 3), dtype=int32).",
     "output_type": "error",
     "traceback": [
      "\u001b[1;31m---------------------------------------------------------------------------\u001b[0m",
      "\u001b[1;31mValueError\u001b[0m                                Traceback (most recent call last)",
      "\u001b[1;32m<ipython-input-84-4c9eaa88e65f>\u001b[0m in \u001b[0;36m<module>\u001b[1;34m\u001b[0m\n\u001b[1;32m----> 1\u001b[1;33m \u001b[0mtf\u001b[0m\u001b[1;33m.\u001b[0m\u001b[0mtensordot\u001b[0m\u001b[1;33m(\u001b[0m\u001b[0ma\u001b[0m \u001b[1;33m=\u001b[0m \u001b[0mmat_mul_tensor_1\u001b[0m \u001b[1;33m,\u001b[0m \u001b[0mb\u001b[0m \u001b[1;33m=\u001b[0m\u001b[0mmat_mul_tensor_2\u001b[0m \u001b[1;33m,\u001b[0m \u001b[0maxes\u001b[0m \u001b[1;33m=\u001b[0m \u001b[1;36m3\u001b[0m\u001b[1;33m)\u001b[0m\u001b[1;33m\u001b[0m\u001b[1;33m\u001b[0m\u001b[0m\n\u001b[0m\u001b[0;32m      2\u001b[0m \u001b[1;33m\u001b[0m\u001b[0m\n\u001b[0;32m      3\u001b[0m \u001b[1;31m# Error ? Why ? 'axes' must not be larger than the number of dimensions of tensor. here the rank or dimension was 2\u001b[0m\u001b[1;33m\u001b[0m\u001b[1;33m\u001b[0m\u001b[1;33m\u001b[0m\u001b[0m\n",
      "\u001b[1;32mC:\\ProgramData\\Anaconda3\\lib\\site-packages\\tensorflow\\python\\util\\dispatch.py\u001b[0m in \u001b[0;36mwrapper\u001b[1;34m(*args, **kwargs)\u001b[0m\n\u001b[0;32m    204\u001b[0m     \u001b[1;34m\"\"\"Call target, and fall back on dispatchers if there is a TypeError.\"\"\"\u001b[0m\u001b[1;33m\u001b[0m\u001b[1;33m\u001b[0m\u001b[0m\n\u001b[0;32m    205\u001b[0m     \u001b[1;32mtry\u001b[0m\u001b[1;33m:\u001b[0m\u001b[1;33m\u001b[0m\u001b[1;33m\u001b[0m\u001b[0m\n\u001b[1;32m--> 206\u001b[1;33m       \u001b[1;32mreturn\u001b[0m \u001b[0mtarget\u001b[0m\u001b[1;33m(\u001b[0m\u001b[1;33m*\u001b[0m\u001b[0margs\u001b[0m\u001b[1;33m,\u001b[0m \u001b[1;33m**\u001b[0m\u001b[0mkwargs\u001b[0m\u001b[1;33m)\u001b[0m\u001b[1;33m\u001b[0m\u001b[1;33m\u001b[0m\u001b[0m\n\u001b[0m\u001b[0;32m    207\u001b[0m     \u001b[1;32mexcept\u001b[0m \u001b[1;33m(\u001b[0m\u001b[0mTypeError\u001b[0m\u001b[1;33m,\u001b[0m \u001b[0mValueError\u001b[0m\u001b[1;33m)\u001b[0m\u001b[1;33m:\u001b[0m\u001b[1;33m\u001b[0m\u001b[1;33m\u001b[0m\u001b[0m\n\u001b[0;32m    208\u001b[0m       \u001b[1;31m# Note: convert_to_eager_tensor currently raises a ValueError, not a\u001b[0m\u001b[1;33m\u001b[0m\u001b[1;33m\u001b[0m\u001b[1;33m\u001b[0m\u001b[0m\n",
      "\u001b[1;32mC:\\ProgramData\\Anaconda3\\lib\\site-packages\\tensorflow\\python\\ops\\math_ops.py\u001b[0m in \u001b[0;36mtensordot\u001b[1;34m(a, b, axes, name)\u001b[0m\n\u001b[0;32m   5036\u001b[0m     \u001b[0ma\u001b[0m \u001b[1;33m=\u001b[0m \u001b[0mops\u001b[0m\u001b[1;33m.\u001b[0m\u001b[0mconvert_to_tensor\u001b[0m\u001b[1;33m(\u001b[0m\u001b[0ma\u001b[0m\u001b[1;33m,\u001b[0m \u001b[0mname\u001b[0m\u001b[1;33m=\u001b[0m\u001b[1;34m\"a\"\u001b[0m\u001b[1;33m)\u001b[0m\u001b[1;33m\u001b[0m\u001b[1;33m\u001b[0m\u001b[0m\n\u001b[0;32m   5037\u001b[0m     \u001b[0mb\u001b[0m \u001b[1;33m=\u001b[0m \u001b[0mops\u001b[0m\u001b[1;33m.\u001b[0m\u001b[0mconvert_to_tensor\u001b[0m\u001b[1;33m(\u001b[0m\u001b[0mb\u001b[0m\u001b[1;33m,\u001b[0m \u001b[0mname\u001b[0m\u001b[1;33m=\u001b[0m\u001b[1;34m\"b\"\u001b[0m\u001b[1;33m)\u001b[0m\u001b[1;33m\u001b[0m\u001b[1;33m\u001b[0m\u001b[0m\n\u001b[1;32m-> 5038\u001b[1;33m     \u001b[0ma_axes\u001b[0m\u001b[1;33m,\u001b[0m \u001b[0mb_axes\u001b[0m \u001b[1;33m=\u001b[0m \u001b[0m_tensordot_axes\u001b[0m\u001b[1;33m(\u001b[0m\u001b[0ma\u001b[0m\u001b[1;33m,\u001b[0m \u001b[0maxes\u001b[0m\u001b[1;33m)\u001b[0m\u001b[1;33m\u001b[0m\u001b[1;33m\u001b[0m\u001b[0m\n\u001b[0m\u001b[0;32m   5039\u001b[0m     \u001b[0ma_reshape\u001b[0m\u001b[1;33m,\u001b[0m \u001b[0ma_free_dims\u001b[0m\u001b[1;33m,\u001b[0m \u001b[0ma_free_dims_static\u001b[0m \u001b[1;33m=\u001b[0m \u001b[0m_tensordot_reshape\u001b[0m\u001b[1;33m(\u001b[0m\u001b[0ma\u001b[0m\u001b[1;33m,\u001b[0m \u001b[0ma_axes\u001b[0m\u001b[1;33m)\u001b[0m\u001b[1;33m\u001b[0m\u001b[1;33m\u001b[0m\u001b[0m\n\u001b[0;32m   5040\u001b[0m     b_reshape, b_free_dims, b_free_dims_static = _tensordot_reshape(\n",
      "\u001b[1;32mC:\\ProgramData\\Anaconda3\\lib\\site-packages\\tensorflow\\python\\ops\\math_ops.py\u001b[0m in \u001b[0;36m_tensordot_axes\u001b[1;34m(a, axes)\u001b[0m\n\u001b[0;32m   5007\u001b[0m       \u001b[1;32mif\u001b[0m \u001b[0ma_shape\u001b[0m\u001b[1;33m.\u001b[0m\u001b[0mndims\u001b[0m \u001b[1;32mis\u001b[0m \u001b[1;32mnot\u001b[0m \u001b[1;32mNone\u001b[0m\u001b[1;33m:\u001b[0m\u001b[1;33m\u001b[0m\u001b[1;33m\u001b[0m\u001b[0m\n\u001b[0;32m   5008\u001b[0m         \u001b[1;32mif\u001b[0m \u001b[0maxes\u001b[0m \u001b[1;33m>\u001b[0m \u001b[0ma_shape\u001b[0m\u001b[1;33m.\u001b[0m\u001b[0mndims\u001b[0m\u001b[1;33m:\u001b[0m\u001b[1;33m\u001b[0m\u001b[1;33m\u001b[0m\u001b[0m\n\u001b[1;32m-> 5009\u001b[1;33m           raise ValueError(\"'axes' must not be larger than the number of \"\n\u001b[0m\u001b[0;32m   5010\u001b[0m                            \"dimensions of tensor %s.\" % a)\n\u001b[0;32m   5011\u001b[0m         return (list(xrange(a_shape.ndims - axes,\n",
      "\u001b[1;31mValueError\u001b[0m: 'axes' must not be larger than the number of dimensions of tensor tf.Tensor(\n[[10  7 30]\n [21 36  9]\n [88 74 95]], shape=(3, 3), dtype=int32)."
     ]
    }
   ],
   "source": [
    "tf.tensordot(a = mat_mul_tensor_1 , b =mat_mul_tensor_2 , axes = 3)\n"
   ]
  },
  {
   "cell_type": "markdown",
   "id": "4fd4d114",
   "metadata": {},
   "source": [
    "### Error ??? Why ? 'axes' must not be larger than the number of dimensions of tensor... Here the rank or dimension was 2  "
   ]
  },
  {
   "cell_type": "code",
   "execution_count": 85,
   "id": "6539f3c9",
   "metadata": {},
   "outputs": [
    {
     "data": {
      "text/plain": [
       "<tf.Tensor: shape=(3, 3, 2), dtype=float32, numpy=\n",
       "array([[[10. ,  7. ],\n",
       "        [11.2, 15. ],\n",
       "        [20. , 55. ]],\n",
       "\n",
       "       [[88. , 95. ],\n",
       "        [36.5, 42. ],\n",
       "        [23. , 69. ]],\n",
       "\n",
       "       [[22. , 43. ],\n",
       "        [70. , 99. ],\n",
       "        [10. , 90. ]]], dtype=float32)>"
      ]
     },
     "execution_count": 85,
     "metadata": {},
     "output_type": "execute_result"
    }
   ],
   "source": [
    "tensor"
   ]
  },
  {
   "cell_type": "code",
   "execution_count": null,
   "id": "16cb4115",
   "metadata": {},
   "outputs": [],
   "source": [
    "tf.tensordot(a = tensor , b= tensor , axes=3)\n"
   ]
  },
  {
   "cell_type": "markdown",
   "id": "cc4e1c7d",
   "metadata": {},
   "source": [
    "### where is Error ? Here Rank or dimesnion is 3 "
   ]
  },
  {
   "cell_type": "markdown",
   "id": "0e7bab19",
   "metadata": {},
   "source": [
    "## 🌈 conclusion : axes values = rank of a matrix"
   ]
  },
  {
   "cell_type": "code",
   "execution_count": 125,
   "id": "2d281230",
   "metadata": {},
   "outputs": [
    {
     "data": {
      "text/plain": [
       "<tf.Tensor: shape=(3, 3), dtype=int32, numpy=\n",
       "array([[10,  7, 30],\n",
       "       [21, 36,  9],\n",
       "       [88, 74, 95]])>"
      ]
     },
     "execution_count": 125,
     "metadata": {},
     "output_type": "execute_result"
    }
   ],
   "source": [
    "mat_mul_tensor_1"
   ]
  },
  {
   "cell_type": "code",
   "execution_count": 126,
   "id": "d1547218",
   "metadata": {},
   "outputs": [
    {
     "data": {
      "text/plain": [
       "<tf.Tensor: shape=(3, 3), dtype=int32, numpy=\n",
       "array([[10, 21, 88],\n",
       "       [ 7, 36, 74],\n",
       "       [30,  9, 95]])>"
      ]
     },
     "execution_count": 126,
     "metadata": {},
     "output_type": "execute_result"
    }
   ],
   "source": [
    "tf.transpose(mat_mul_tensor_1)"
   ]
  },
  {
   "cell_type": "markdown",
   "id": "74e63054",
   "metadata": {},
   "source": [
    "## 🌈 concluion : Colms turn into rows or vice versa"
   ]
  },
  {
   "cell_type": "markdown",
   "id": "0097f104",
   "metadata": {},
   "source": [
    "# 📌Sessison 9 : Tensor aggregation "
   ]
  },
  {
   "cell_type": "code",
   "execution_count": 74,
   "id": "92cfa94a",
   "metadata": {},
   "outputs": [
    {
     "data": {
      "text/plain": [
       "<tf.Tensor: shape=(3, 3, 2), dtype=float32, numpy=\n",
       "array([[[10. ,  7. ],\n",
       "        [11.2, 15. ],\n",
       "        [20. , 55. ]],\n",
       "\n",
       "       [[88. , 95. ],\n",
       "        [36.5, 42. ],\n",
       "        [23. , 69. ]],\n",
       "\n",
       "       [[22. , 43. ],\n",
       "        [70. , 99. ],\n",
       "        [10. , 90. ]]], dtype=float32)>"
      ]
     },
     "execution_count": 74,
     "metadata": {},
     "output_type": "execute_result"
    }
   ],
   "source": [
    "tensor"
   ]
  },
  {
   "cell_type": "code",
   "execution_count": 127,
   "id": "2ee368d6",
   "metadata": {},
   "outputs": [
    {
     "name": "stdout",
     "output_type": "stream",
     "text": [
      "Mean : 44.761112\n",
      "Max: 99.0\n",
      "Min: 7.0\n",
      "Std dev: 31.841328\n",
      "variance: 1013.8701\n"
     ]
    }
   ],
   "source": [
    "# mean\n",
    "\n",
    "print(\"Mean :\" ,tf.reduce_mean(tensor).numpy())\n",
    "\n",
    "# max\n",
    "\n",
    "print(\"Max:\",tf.reduce_max(tensor).numpy())\n",
    "\n",
    "# min\n",
    "\n",
    "print(\"Min:\",tf.reduce_min(tensor).numpy())\n",
    "\n",
    "# std\n",
    "\n",
    "print(\"Std dev:\",tf.math.reduce_std(tensor).numpy())\n",
    "\n",
    "# var\n",
    "\n",
    "print(\"variance:\",tf.math.reduce_variance(tensor).numpy())\n",
    "\n"
   ]
  },
  {
   "cell_type": "code",
   "execution_count": 132,
   "id": "32409b1b",
   "metadata": {},
   "outputs": [],
   "source": [
    "tf.random.set_seed(42)\n",
    "\n",
    "mat = tf.random.uniform(shape= [50])"
   ]
  },
  {
   "cell_type": "code",
   "execution_count": 133,
   "id": "bf8ab6f4",
   "metadata": {},
   "outputs": [
    {
     "data": {
      "text/plain": [
       "<tf.Tensor: shape=(50,), dtype=float32, numpy=\n",
       "array([0.6645621 , 0.44100678, 0.3528825 , 0.46448255, 0.03366041,\n",
       "       0.68467236, 0.74011743, 0.8724445 , 0.22632635, 0.22319686,\n",
       "       0.3103881 , 0.7223358 , 0.13318717, 0.5480639 , 0.5746088 ,\n",
       "       0.8996835 , 0.00946367, 0.5212307 , 0.6345445 , 0.1993283 ,\n",
       "       0.72942245, 0.54583454, 0.10756552, 0.6767061 , 0.6602763 ,\n",
       "       0.33695042, 0.60141766, 0.21062577, 0.8527372 , 0.44062173,\n",
       "       0.9485276 , 0.23752594, 0.81179297, 0.5263394 , 0.494308  ,\n",
       "       0.21612847, 0.8457197 , 0.8718841 , 0.3083862 , 0.6868038 ,\n",
       "       0.23764038, 0.7817228 , 0.9671384 , 0.06870162, 0.79873943,\n",
       "       0.66028714, 0.5871513 , 0.16461694, 0.7381023 , 0.32054043],\n",
       "      dtype=float32)>"
      ]
     },
     "execution_count": 133,
     "metadata": {},
     "output_type": "execute_result"
    }
   ],
   "source": [
    "mat"
   ]
  },
  {
   "cell_type": "code",
   "execution_count": 135,
   "id": "1e7fc53e",
   "metadata": {},
   "outputs": [
    {
     "name": "stdout",
     "output_type": "stream",
     "text": [
      "argmin index : 16\n",
      "Argmax index: 42\n"
     ]
    }
   ],
   "source": [
    "# argmin (index / position)\n",
    "\n",
    "print(\"argmin index :\" , tf.argmin(mat).numpy())\n",
    "\n",
    "#argmax (index / position)\n",
    "\n",
    "print(\"Argmax index:\" , tf.argmax(mat).numpy())"
   ]
  },
  {
   "cell_type": "code",
   "execution_count": 137,
   "id": "14a28e51",
   "metadata": {},
   "outputs": [
    {
     "data": {
      "text/plain": [
       "<tf.Tensor: shape=(), dtype=float32, numpy=0.009463668>"
      ]
     },
     "execution_count": 137,
     "metadata": {},
     "output_type": "execute_result"
    }
   ],
   "source": [
    "mat[tf.argmin(mat)]"
   ]
  },
  {
   "cell_type": "code",
   "execution_count": 139,
   "id": "ad9526f1",
   "metadata": {},
   "outputs": [
    {
     "data": {
      "text/plain": [
       "<tf.Tensor: shape=(), dtype=float32, numpy=0.9671384>"
      ]
     },
     "execution_count": 139,
     "metadata": {},
     "output_type": "execute_result"
    }
   ],
   "source": [
    "mat[tf.argmax(mat)]"
   ]
  },
  {
   "cell_type": "markdown",
   "id": "028adada",
   "metadata": {},
   "source": [
    "# 📌Session 10 : Squeezing tensors "
   ]
  },
  {
   "cell_type": "markdown",
   "id": "74271b37",
   "metadata": {},
   "source": [
    "### 📚Resource : https://www.tensorflow.org/api_docs/python/tf/squeeze?hl=ja"
   ]
  },
  {
   "cell_type": "code",
   "execution_count": 114,
   "id": "acdfdb4f",
   "metadata": {},
   "outputs": [
    {
     "data": {
      "text/plain": [
       "<tf.Tensor: shape=(2, 2), dtype=int32, numpy=\n",
       "array([[10,  7],\n",
       "       [11, 15]])>"
      ]
     },
     "execution_count": 114,
     "metadata": {},
     "output_type": "execute_result"
    }
   ],
   "source": [
    "matrix"
   ]
  },
  {
   "cell_type": "code",
   "execution_count": 118,
   "id": "ca6c80fe",
   "metadata": {},
   "outputs": [
    {
     "name": "stdout",
     "output_type": "stream",
     "text": [
      "tf.Tensor(\n",
      "[[[10]\n",
      "  [ 7]]\n",
      "\n",
      " [[11]\n",
      "  [15]]], shape=(2, 2, 1), dtype=int32)\n"
     ]
    }
   ],
   "source": [
    "expanded_1 = tf.expand_dims(input = matrix , axis = 2)\n",
    "print(expanded_1)"
   ]
  },
  {
   "cell_type": "code",
   "execution_count": 119,
   "id": "f524a8d0",
   "metadata": {},
   "outputs": [],
   "source": [
    "squeezed_1 = tf.squeeze(input = expanded_1)"
   ]
  },
  {
   "cell_type": "code",
   "execution_count": 120,
   "id": "98126585",
   "metadata": {},
   "outputs": [
    {
     "name": "stdout",
     "output_type": "stream",
     "text": [
      "tf.Tensor(\n",
      "[[10  7]\n",
      " [11 15]], shape=(2, 2), dtype=int32)\n",
      "shape of squeezed : [2 2]\n"
     ]
    },
    {
     "data": {
      "text/plain": [
       "(None, None)"
      ]
     },
     "execution_count": 120,
     "metadata": {},
     "output_type": "execute_result"
    }
   ],
   "source": [
    "print(squeezed_1) , print(\"shape of squeezed :\" , tf.shape(squeezed).numpy())"
   ]
  },
  {
   "cell_type": "code",
   "execution_count": 121,
   "id": "b46697d9",
   "metadata": {},
   "outputs": [],
   "source": [
    "expanded_2 = tf.expand_dims(input=matrix , axis = 1)"
   ]
  },
  {
   "cell_type": "code",
   "execution_count": 122,
   "id": "42013d03",
   "metadata": {},
   "outputs": [
    {
     "name": "stdout",
     "output_type": "stream",
     "text": [
      "tf.Tensor(\n",
      "[[[10  7]]\n",
      "\n",
      " [[11 15]]], shape=(2, 1, 2), dtype=int32)\n"
     ]
    }
   ],
   "source": [
    "print(expanded_2)"
   ]
  },
  {
   "cell_type": "code",
   "execution_count": 123,
   "id": "e1250ce6",
   "metadata": {},
   "outputs": [],
   "source": [
    "squeezed_2 = tf.squeeze(input = expanded_2)"
   ]
  },
  {
   "cell_type": "code",
   "execution_count": 124,
   "id": "0cbabd28",
   "metadata": {},
   "outputs": [
    {
     "name": "stdout",
     "output_type": "stream",
     "text": [
      "tf.Tensor(\n",
      "[[10  7]\n",
      " [11 15]], shape=(2, 2), dtype=int32)\n"
     ]
    }
   ],
   "source": [
    "print(squeezed_2)"
   ]
  },
  {
   "cell_type": "markdown",
   "id": "25398b25",
   "metadata": {},
   "source": [
    "# 📌Session 11 : One hot encoding tensorflow"
   ]
  },
  {
   "cell_type": "code",
   "execution_count": 90,
   "id": "e63abab8",
   "metadata": {},
   "outputs": [
    {
     "name": "stdout",
     "output_type": "stream",
     "text": [
      "[1, 2, 3, 4]\n"
     ]
    }
   ],
   "source": [
    "indices = [1,2,3,4]\n",
    "print(indices)"
   ]
  },
  {
   "cell_type": "code",
   "execution_count": 99,
   "id": "4bf4b936",
   "metadata": {},
   "outputs": [
    {
     "data": {
      "text/plain": [
       "<tf.Tensor: shape=(4, 5), dtype=float32, numpy=\n",
       "array([[0., 1., 0., 0., 0.],\n",
       "       [0., 0., 1., 0., 0.],\n",
       "       [0., 0., 0., 1., 0.],\n",
       "       [0., 0., 0., 0., 1.]], dtype=float32)>"
      ]
     },
     "execution_count": 99,
     "metadata": {},
     "output_type": "execute_result"
    }
   ],
   "source": [
    "tf.one_hot(indices=indices ,depth = 5)"
   ]
  },
  {
   "cell_type": "code",
   "execution_count": 100,
   "id": "85133a34",
   "metadata": {},
   "outputs": [
    {
     "name": "stdout",
     "output_type": "stream",
     "text": [
      "['lion', 'tiger', 'rhino', 'fox']\n"
     ]
    }
   ],
   "source": [
    "list = [\"lion\", \"tiger\" ,\"rhino\",\"fox\"]\n",
    "print(list)"
   ]
  },
  {
   "cell_type": "code",
   "execution_count": 101,
   "id": "24fff774",
   "metadata": {
    "scrolled": true
   },
   "outputs": [
    {
     "ename": "InvalidArgumentError",
     "evalue": "Value for attr 'TI' of string is not in the list of allowed values: uint8, int32, int64\n\t; NodeDef: {{node OneHot}}; Op<name=OneHot; signature=indices:TI, depth:int32, on_value:T, off_value:T -> output:T; attr=axis:int,default=-1; attr=T:type; attr=TI:type,default=DT_INT64,allowed=[DT_UINT8, DT_INT32, DT_INT64]> [Op:OneHot]",
     "output_type": "error",
     "traceback": [
      "\u001b[1;31m---------------------------------------------------------------------------\u001b[0m",
      "\u001b[1;31mInvalidArgumentError\u001b[0m                      Traceback (most recent call last)",
      "\u001b[1;32m<ipython-input-101-7ac341b2ff59>\u001b[0m in \u001b[0;36m<module>\u001b[1;34m\u001b[0m\n\u001b[1;32m----> 1\u001b[1;33m \u001b[0mtf\u001b[0m\u001b[1;33m.\u001b[0m\u001b[0mone_hot\u001b[0m\u001b[1;33m(\u001b[0m\u001b[0mindices\u001b[0m\u001b[1;33m=\u001b[0m\u001b[0mlist\u001b[0m \u001b[1;33m,\u001b[0m \u001b[0mdepth\u001b[0m \u001b[1;33m=\u001b[0m \u001b[1;36m5\u001b[0m\u001b[1;33m)\u001b[0m\u001b[1;33m\u001b[0m\u001b[1;33m\u001b[0m\u001b[0m\n\u001b[0m",
      "\u001b[1;32mC:\\ProgramData\\Anaconda3\\lib\\site-packages\\tensorflow\\python\\util\\dispatch.py\u001b[0m in \u001b[0;36mwrapper\u001b[1;34m(*args, **kwargs)\u001b[0m\n\u001b[0;32m    204\u001b[0m     \u001b[1;34m\"\"\"Call target, and fall back on dispatchers if there is a TypeError.\"\"\"\u001b[0m\u001b[1;33m\u001b[0m\u001b[1;33m\u001b[0m\u001b[0m\n\u001b[0;32m    205\u001b[0m     \u001b[1;32mtry\u001b[0m\u001b[1;33m:\u001b[0m\u001b[1;33m\u001b[0m\u001b[1;33m\u001b[0m\u001b[0m\n\u001b[1;32m--> 206\u001b[1;33m       \u001b[1;32mreturn\u001b[0m \u001b[0mtarget\u001b[0m\u001b[1;33m(\u001b[0m\u001b[1;33m*\u001b[0m\u001b[0margs\u001b[0m\u001b[1;33m,\u001b[0m \u001b[1;33m**\u001b[0m\u001b[0mkwargs\u001b[0m\u001b[1;33m)\u001b[0m\u001b[1;33m\u001b[0m\u001b[1;33m\u001b[0m\u001b[0m\n\u001b[0m\u001b[0;32m    207\u001b[0m     \u001b[1;32mexcept\u001b[0m \u001b[1;33m(\u001b[0m\u001b[0mTypeError\u001b[0m\u001b[1;33m,\u001b[0m \u001b[0mValueError\u001b[0m\u001b[1;33m)\u001b[0m\u001b[1;33m:\u001b[0m\u001b[1;33m\u001b[0m\u001b[1;33m\u001b[0m\u001b[0m\n\u001b[0;32m    208\u001b[0m       \u001b[1;31m# Note: convert_to_eager_tensor currently raises a ValueError, not a\u001b[0m\u001b[1;33m\u001b[0m\u001b[1;33m\u001b[0m\u001b[1;33m\u001b[0m\u001b[0m\n",
      "\u001b[1;32mC:\\ProgramData\\Anaconda3\\lib\\site-packages\\tensorflow\\python\\ops\\array_ops.py\u001b[0m in \u001b[0;36mone_hot\u001b[1;34m(indices, depth, on_value, off_value, axis, dtype, name)\u001b[0m\n\u001b[0;32m   4347\u001b[0m                       \"dtype {1} of off_value\".format(on_dtype, off_dtype))\n\u001b[0;32m   4348\u001b[0m \u001b[1;33m\u001b[0m\u001b[0m\n\u001b[1;32m-> 4349\u001b[1;33m     return gen_array_ops.one_hot(indices, depth, on_value, off_value, axis,\n\u001b[0m\u001b[0;32m   4350\u001b[0m                                  name)\n\u001b[0;32m   4351\u001b[0m \u001b[1;33m\u001b[0m\u001b[0m\n",
      "\u001b[1;32mC:\\ProgramData\\Anaconda3\\lib\\site-packages\\tensorflow\\python\\ops\\gen_array_ops.py\u001b[0m in \u001b[0;36mone_hot\u001b[1;34m(indices, depth, on_value, off_value, axis, name)\u001b[0m\n\u001b[0;32m   6240\u001b[0m       \u001b[1;32mpass\u001b[0m\u001b[1;33m\u001b[0m\u001b[1;33m\u001b[0m\u001b[0m\n\u001b[0;32m   6241\u001b[0m     \u001b[1;32mtry\u001b[0m\u001b[1;33m:\u001b[0m\u001b[1;33m\u001b[0m\u001b[1;33m\u001b[0m\u001b[0m\n\u001b[1;32m-> 6242\u001b[1;33m       return one_hot_eager_fallback(\n\u001b[0m\u001b[0;32m   6243\u001b[0m           indices, depth, on_value, off_value, axis=axis, name=name, ctx=_ctx)\n\u001b[0;32m   6244\u001b[0m     \u001b[1;32mexcept\u001b[0m \u001b[0m_core\u001b[0m\u001b[1;33m.\u001b[0m\u001b[0m_SymbolicException\u001b[0m\u001b[1;33m:\u001b[0m\u001b[1;33m\u001b[0m\u001b[1;33m\u001b[0m\u001b[0m\n",
      "\u001b[1;32mC:\\ProgramData\\Anaconda3\\lib\\site-packages\\tensorflow\\python\\ops\\gen_array_ops.py\u001b[0m in \u001b[0;36mone_hot_eager_fallback\u001b[1;34m(indices, depth, on_value, off_value, axis, name, ctx)\u001b[0m\n\u001b[0;32m   6274\u001b[0m   \u001b[0m_inputs_flat\u001b[0m \u001b[1;33m=\u001b[0m \u001b[1;33m[\u001b[0m\u001b[0mindices\u001b[0m\u001b[1;33m,\u001b[0m \u001b[0mdepth\u001b[0m\u001b[1;33m,\u001b[0m \u001b[0mon_value\u001b[0m\u001b[1;33m,\u001b[0m \u001b[0moff_value\u001b[0m\u001b[1;33m]\u001b[0m\u001b[1;33m\u001b[0m\u001b[1;33m\u001b[0m\u001b[0m\n\u001b[0;32m   6275\u001b[0m   \u001b[0m_attrs\u001b[0m \u001b[1;33m=\u001b[0m \u001b[1;33m(\u001b[0m\u001b[1;34m\"axis\"\u001b[0m\u001b[1;33m,\u001b[0m \u001b[0maxis\u001b[0m\u001b[1;33m,\u001b[0m \u001b[1;34m\"T\"\u001b[0m\u001b[1;33m,\u001b[0m \u001b[0m_attr_T\u001b[0m\u001b[1;33m,\u001b[0m \u001b[1;34m\"TI\"\u001b[0m\u001b[1;33m,\u001b[0m \u001b[0m_attr_TI\u001b[0m\u001b[1;33m)\u001b[0m\u001b[1;33m\u001b[0m\u001b[1;33m\u001b[0m\u001b[0m\n\u001b[1;32m-> 6276\u001b[1;33m   _result = _execute.execute(b\"OneHot\", 1, inputs=_inputs_flat, attrs=_attrs,\n\u001b[0m\u001b[0;32m   6277\u001b[0m                              ctx=ctx, name=name)\n\u001b[0;32m   6278\u001b[0m   \u001b[1;32mif\u001b[0m \u001b[0m_execute\u001b[0m\u001b[1;33m.\u001b[0m\u001b[0mmust_record_gradient\u001b[0m\u001b[1;33m(\u001b[0m\u001b[1;33m)\u001b[0m\u001b[1;33m:\u001b[0m\u001b[1;33m\u001b[0m\u001b[1;33m\u001b[0m\u001b[0m\n",
      "\u001b[1;32mC:\\ProgramData\\Anaconda3\\lib\\site-packages\\tensorflow\\python\\eager\\execute.py\u001b[0m in \u001b[0;36mquick_execute\u001b[1;34m(op_name, num_outputs, inputs, attrs, ctx, name)\u001b[0m\n\u001b[0;32m     57\u001b[0m   \u001b[1;32mtry\u001b[0m\u001b[1;33m:\u001b[0m\u001b[1;33m\u001b[0m\u001b[1;33m\u001b[0m\u001b[0m\n\u001b[0;32m     58\u001b[0m     \u001b[0mctx\u001b[0m\u001b[1;33m.\u001b[0m\u001b[0mensure_initialized\u001b[0m\u001b[1;33m(\u001b[0m\u001b[1;33m)\u001b[0m\u001b[1;33m\u001b[0m\u001b[1;33m\u001b[0m\u001b[0m\n\u001b[1;32m---> 59\u001b[1;33m     tensors = pywrap_tfe.TFE_Py_Execute(ctx._handle, device_name, op_name,\n\u001b[0m\u001b[0;32m     60\u001b[0m                                         inputs, attrs, num_outputs)\n\u001b[0;32m     61\u001b[0m   \u001b[1;32mexcept\u001b[0m \u001b[0mcore\u001b[0m\u001b[1;33m.\u001b[0m\u001b[0m_NotOkStatusException\u001b[0m \u001b[1;32mas\u001b[0m \u001b[0me\u001b[0m\u001b[1;33m:\u001b[0m\u001b[1;33m\u001b[0m\u001b[1;33m\u001b[0m\u001b[0m\n",
      "\u001b[1;31mInvalidArgumentError\u001b[0m: Value for attr 'TI' of string is not in the list of allowed values: uint8, int32, int64\n\t; NodeDef: {{node OneHot}}; Op<name=OneHot; signature=indices:TI, depth:int32, on_value:T, off_value:T -> output:T; attr=axis:int,default=-1; attr=T:type; attr=TI:type,default=DT_INT64,allowed=[DT_UINT8, DT_INT32, DT_INT64]> [Op:OneHot]"
     ]
    }
   ],
   "source": [
    "tf.one_hot(indices=list , depth = 5)"
   ]
  },
  {
   "cell_type": "markdown",
   "id": "eeb1ab31",
   "metadata": {},
   "source": [
    "###  Congratulations ..You are 🐐 of Tensorflow 2.0 fundamentals now.. I apprepreciate your efforts and Learning "
   ]
  },
  {
   "cell_type": "markdown",
   "id": "6c483499",
   "metadata": {},
   "source": [
    "## HAPPY TENSORFLOW 2.0 LEARNING"
   ]
  }
 ],
 "metadata": {
  "kernelspec": {
   "display_name": "Python 3",
   "language": "python",
   "name": "python3"
  },
  "language_info": {
   "codemirror_mode": {
    "name": "ipython",
    "version": 3
   },
   "file_extension": ".py",
   "mimetype": "text/x-python",
   "name": "python",
   "nbconvert_exporter": "python",
   "pygments_lexer": "ipython3",
   "version": "3.8.8"
  }
 },
 "nbformat": 4,
 "nbformat_minor": 5
}
